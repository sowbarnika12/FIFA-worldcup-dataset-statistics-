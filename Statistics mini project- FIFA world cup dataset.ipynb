{
 "cells": [
  {
   "cell_type": "code",
   "execution_count": 246,
   "id": "a8706e5b",
   "metadata": {},
   "outputs": [],
   "source": [
    "import numpy as np\n",
    "import pandas as pd\n",
    "import matplotlib.pyplot as plt\n",
    "import seaborn as sns\n",
    "import scipy\n",
    "import scipy.stats as st\n",
    "import warnings\n",
    "warnings.filterwarnings(action = 'ignore')\n",
    "from statsmodels.formula.api import ols\n",
    "from statsmodels.stats.anova import _get_covariance,anova_lm\n",
    "import statsmodels.api as sm"
   ]
  },
  {
   "cell_type": "code",
   "execution_count": 59,
   "id": "649aedfb",
   "metadata": {},
   "outputs": [
    {
     "data": {
      "text/html": [
       "<div>\n",
       "<style scoped>\n",
       "    .dataframe tbody tr th:only-of-type {\n",
       "        vertical-align: middle;\n",
       "    }\n",
       "\n",
       "    .dataframe tbody tr th {\n",
       "        vertical-align: top;\n",
       "    }\n",
       "\n",
       "    .dataframe thead th {\n",
       "        text-align: right;\n",
       "    }\n",
       "</style>\n",
       "<table border=\"1\" class=\"dataframe\">\n",
       "  <thead>\n",
       "    <tr style=\"text-align: right;\">\n",
       "      <th></th>\n",
       "      <th>Name</th>\n",
       "      <th>Age</th>\n",
       "      <th>Nationality</th>\n",
       "      <th>Overall_rating</th>\n",
       "      <th>Potential</th>\n",
       "      <th>Club</th>\n",
       "      <th>Preferred Foot</th>\n",
       "      <th>International Reputation</th>\n",
       "      <th>Weak Foot</th>\n",
       "      <th>Skill Moves</th>\n",
       "      <th>Work Rate</th>\n",
       "      <th>Position</th>\n",
       "      <th>Jersey Number</th>\n",
       "      <th>Height</th>\n",
       "      <th>Weight</th>\n",
       "    </tr>\n",
       "  </thead>\n",
       "  <tbody>\n",
       "    <tr>\n",
       "      <th>0</th>\n",
       "      <td>L. Messi</td>\n",
       "      <td>31</td>\n",
       "      <td>Argentina</td>\n",
       "      <td>94</td>\n",
       "      <td>94</td>\n",
       "      <td>FC Barcelona</td>\n",
       "      <td>Left</td>\n",
       "      <td>5</td>\n",
       "      <td>4</td>\n",
       "      <td>4</td>\n",
       "      <td>Medium/ Medium</td>\n",
       "      <td>RF</td>\n",
       "      <td>10</td>\n",
       "      <td>5.583333</td>\n",
       "      <td>159</td>\n",
       "    </tr>\n",
       "    <tr>\n",
       "      <th>1</th>\n",
       "      <td>Cristiano Ronaldo</td>\n",
       "      <td>33</td>\n",
       "      <td>Portugal</td>\n",
       "      <td>94</td>\n",
       "      <td>94</td>\n",
       "      <td>Juventus</td>\n",
       "      <td>Right</td>\n",
       "      <td>5</td>\n",
       "      <td>4</td>\n",
       "      <td>5</td>\n",
       "      <td>High/ Low</td>\n",
       "      <td>ST</td>\n",
       "      <td>7</td>\n",
       "      <td>6.166667</td>\n",
       "      <td>183</td>\n",
       "    </tr>\n",
       "    <tr>\n",
       "      <th>2</th>\n",
       "      <td>Neymar Jr</td>\n",
       "      <td>26</td>\n",
       "      <td>Brazil</td>\n",
       "      <td>92</td>\n",
       "      <td>93</td>\n",
       "      <td>Paris Saint-Germain</td>\n",
       "      <td>Right</td>\n",
       "      <td>5</td>\n",
       "      <td>5</td>\n",
       "      <td>5</td>\n",
       "      <td>High/ Medium</td>\n",
       "      <td>LW</td>\n",
       "      <td>10</td>\n",
       "      <td>5.750000</td>\n",
       "      <td>150</td>\n",
       "    </tr>\n",
       "    <tr>\n",
       "      <th>3</th>\n",
       "      <td>De Gea</td>\n",
       "      <td>27</td>\n",
       "      <td>Spain</td>\n",
       "      <td>91</td>\n",
       "      <td>93</td>\n",
       "      <td>Manchester United</td>\n",
       "      <td>Right</td>\n",
       "      <td>4</td>\n",
       "      <td>3</td>\n",
       "      <td>1</td>\n",
       "      <td>Medium/ Medium</td>\n",
       "      <td>GK</td>\n",
       "      <td>1</td>\n",
       "      <td>6.333333</td>\n",
       "      <td>168</td>\n",
       "    </tr>\n",
       "    <tr>\n",
       "      <th>4</th>\n",
       "      <td>K. De Bruyne</td>\n",
       "      <td>27</td>\n",
       "      <td>Belgium</td>\n",
       "      <td>91</td>\n",
       "      <td>92</td>\n",
       "      <td>Manchester City</td>\n",
       "      <td>Right</td>\n",
       "      <td>4</td>\n",
       "      <td>5</td>\n",
       "      <td>4</td>\n",
       "      <td>High/ High</td>\n",
       "      <td>RCM</td>\n",
       "      <td>7</td>\n",
       "      <td>5.083333</td>\n",
       "      <td>154</td>\n",
       "    </tr>\n",
       "    <tr>\n",
       "      <th>5</th>\n",
       "      <td>E. Hazard</td>\n",
       "      <td>27</td>\n",
       "      <td>Belgium</td>\n",
       "      <td>91</td>\n",
       "      <td>91</td>\n",
       "      <td>Chelsea</td>\n",
       "      <td>Right</td>\n",
       "      <td>4</td>\n",
       "      <td>4</td>\n",
       "      <td>4</td>\n",
       "      <td>High/ Medium</td>\n",
       "      <td>LF</td>\n",
       "      <td>10</td>\n",
       "      <td>5.666667</td>\n",
       "      <td>163</td>\n",
       "    </tr>\n",
       "    <tr>\n",
       "      <th>6</th>\n",
       "      <td>L. ModriÄ‡</td>\n",
       "      <td>32</td>\n",
       "      <td>Croatia</td>\n",
       "      <td>91</td>\n",
       "      <td>91</td>\n",
       "      <td>Real Madrid</td>\n",
       "      <td>Right</td>\n",
       "      <td>4</td>\n",
       "      <td>4</td>\n",
       "      <td>4</td>\n",
       "      <td>High/ High</td>\n",
       "      <td>RCM</td>\n",
       "      <td>10</td>\n",
       "      <td>5.666667</td>\n",
       "      <td>146</td>\n",
       "    </tr>\n",
       "    <tr>\n",
       "      <th>7</th>\n",
       "      <td>L. SuÃ¡rez</td>\n",
       "      <td>31</td>\n",
       "      <td>Uruguay</td>\n",
       "      <td>91</td>\n",
       "      <td>91</td>\n",
       "      <td>FC Barcelona</td>\n",
       "      <td>Right</td>\n",
       "      <td>5</td>\n",
       "      <td>4</td>\n",
       "      <td>3</td>\n",
       "      <td>High/ Medium</td>\n",
       "      <td>RS</td>\n",
       "      <td>9</td>\n",
       "      <td>6.000000</td>\n",
       "      <td>190</td>\n",
       "    </tr>\n",
       "    <tr>\n",
       "      <th>8</th>\n",
       "      <td>Sergio Ramos</td>\n",
       "      <td>32</td>\n",
       "      <td>Spain</td>\n",
       "      <td>91</td>\n",
       "      <td>91</td>\n",
       "      <td>Real Madrid</td>\n",
       "      <td>Right</td>\n",
       "      <td>4</td>\n",
       "      <td>3</td>\n",
       "      <td>3</td>\n",
       "      <td>High/ Medium</td>\n",
       "      <td>RCB</td>\n",
       "      <td>15</td>\n",
       "      <td>6.000000</td>\n",
       "      <td>181</td>\n",
       "    </tr>\n",
       "    <tr>\n",
       "      <th>9</th>\n",
       "      <td>J. Oblak</td>\n",
       "      <td>25</td>\n",
       "      <td>Slovenia</td>\n",
       "      <td>90</td>\n",
       "      <td>93</td>\n",
       "      <td>AtlÃ©tico Madrid</td>\n",
       "      <td>Right</td>\n",
       "      <td>3</td>\n",
       "      <td>3</td>\n",
       "      <td>1</td>\n",
       "      <td>Medium/ Medium</td>\n",
       "      <td>GK</td>\n",
       "      <td>1</td>\n",
       "      <td>6.166667</td>\n",
       "      <td>192</td>\n",
       "    </tr>\n",
       "    <tr>\n",
       "      <th>10</th>\n",
       "      <td>R. Lewandowski</td>\n",
       "      <td>29</td>\n",
       "      <td>Poland</td>\n",
       "      <td>90</td>\n",
       "      <td>90</td>\n",
       "      <td>FC Bayern MÃ¼nchen</td>\n",
       "      <td>Right</td>\n",
       "      <td>4</td>\n",
       "      <td>4</td>\n",
       "      <td>4</td>\n",
       "      <td>High/ Medium</td>\n",
       "      <td>ST</td>\n",
       "      <td>9</td>\n",
       "      <td>6.000000</td>\n",
       "      <td>176</td>\n",
       "    </tr>\n",
       "    <tr>\n",
       "      <th>11</th>\n",
       "      <td>T. Kroos</td>\n",
       "      <td>28</td>\n",
       "      <td>Germany</td>\n",
       "      <td>90</td>\n",
       "      <td>90</td>\n",
       "      <td>Real Madrid</td>\n",
       "      <td>Right</td>\n",
       "      <td>4</td>\n",
       "      <td>5</td>\n",
       "      <td>3</td>\n",
       "      <td>Medium/ Medium</td>\n",
       "      <td>LCM</td>\n",
       "      <td>8</td>\n",
       "      <td>6.000000</td>\n",
       "      <td>168</td>\n",
       "    </tr>\n",
       "    <tr>\n",
       "      <th>12</th>\n",
       "      <td>D. GodÃ­n</td>\n",
       "      <td>32</td>\n",
       "      <td>Uruguay</td>\n",
       "      <td>90</td>\n",
       "      <td>90</td>\n",
       "      <td>AtlÃ©tico Madrid</td>\n",
       "      <td>Right</td>\n",
       "      <td>3</td>\n",
       "      <td>3</td>\n",
       "      <td>2</td>\n",
       "      <td>Medium/ High</td>\n",
       "      <td>CB</td>\n",
       "      <td>10</td>\n",
       "      <td>6.166667</td>\n",
       "      <td>172</td>\n",
       "    </tr>\n",
       "    <tr>\n",
       "      <th>13</th>\n",
       "      <td>David Silva</td>\n",
       "      <td>32</td>\n",
       "      <td>Spain</td>\n",
       "      <td>90</td>\n",
       "      <td>90</td>\n",
       "      <td>Manchester City</td>\n",
       "      <td>Left</td>\n",
       "      <td>4</td>\n",
       "      <td>2</td>\n",
       "      <td>4</td>\n",
       "      <td>High/ Medium</td>\n",
       "      <td>LCM</td>\n",
       "      <td>21</td>\n",
       "      <td>5.666667</td>\n",
       "      <td>148</td>\n",
       "    </tr>\n",
       "    <tr>\n",
       "      <th>14</th>\n",
       "      <td>N. KantÃ©</td>\n",
       "      <td>27</td>\n",
       "      <td>France</td>\n",
       "      <td>89</td>\n",
       "      <td>90</td>\n",
       "      <td>Chelsea</td>\n",
       "      <td>Right</td>\n",
       "      <td>3</td>\n",
       "      <td>3</td>\n",
       "      <td>2</td>\n",
       "      <td>Medium/ High</td>\n",
       "      <td>LDM</td>\n",
       "      <td>13</td>\n",
       "      <td>5.500000</td>\n",
       "      <td>159</td>\n",
       "    </tr>\n",
       "    <tr>\n",
       "      <th>15</th>\n",
       "      <td>P. Dybala</td>\n",
       "      <td>24</td>\n",
       "      <td>Argentina</td>\n",
       "      <td>89</td>\n",
       "      <td>94</td>\n",
       "      <td>Juventus</td>\n",
       "      <td>Left</td>\n",
       "      <td>3</td>\n",
       "      <td>3</td>\n",
       "      <td>4</td>\n",
       "      <td>High/ Medium</td>\n",
       "      <td>LF</td>\n",
       "      <td>21</td>\n",
       "      <td>5.083333</td>\n",
       "      <td>165</td>\n",
       "    </tr>\n",
       "    <tr>\n",
       "      <th>16</th>\n",
       "      <td>H. Kane</td>\n",
       "      <td>24</td>\n",
       "      <td>England</td>\n",
       "      <td>89</td>\n",
       "      <td>91</td>\n",
       "      <td>Tottenham Hotspur</td>\n",
       "      <td>Right</td>\n",
       "      <td>3</td>\n",
       "      <td>4</td>\n",
       "      <td>3</td>\n",
       "      <td>High/ High</td>\n",
       "      <td>ST</td>\n",
       "      <td>9</td>\n",
       "      <td>6.166667</td>\n",
       "      <td>196</td>\n",
       "    </tr>\n",
       "    <tr>\n",
       "      <th>17</th>\n",
       "      <td>A. Griezmann</td>\n",
       "      <td>27</td>\n",
       "      <td>France</td>\n",
       "      <td>89</td>\n",
       "      <td>90</td>\n",
       "      <td>AtlÃ©tico Madrid</td>\n",
       "      <td>Left</td>\n",
       "      <td>4</td>\n",
       "      <td>3</td>\n",
       "      <td>4</td>\n",
       "      <td>High/ High</td>\n",
       "      <td>CAM</td>\n",
       "      <td>7</td>\n",
       "      <td>5.750000</td>\n",
       "      <td>161</td>\n",
       "    </tr>\n",
       "    <tr>\n",
       "      <th>18</th>\n",
       "      <td>M. ter Stegen</td>\n",
       "      <td>26</td>\n",
       "      <td>Germany</td>\n",
       "      <td>89</td>\n",
       "      <td>92</td>\n",
       "      <td>FC Barcelona</td>\n",
       "      <td>Right</td>\n",
       "      <td>3</td>\n",
       "      <td>4</td>\n",
       "      <td>1</td>\n",
       "      <td>Medium/ Medium</td>\n",
       "      <td>GK</td>\n",
       "      <td>22</td>\n",
       "      <td>6.166667</td>\n",
       "      <td>187</td>\n",
       "    </tr>\n",
       "    <tr>\n",
       "      <th>19</th>\n",
       "      <td>T. Courtois</td>\n",
       "      <td>26</td>\n",
       "      <td>Belgium</td>\n",
       "      <td>89</td>\n",
       "      <td>90</td>\n",
       "      <td>Real Madrid</td>\n",
       "      <td>Left</td>\n",
       "      <td>4</td>\n",
       "      <td>2</td>\n",
       "      <td>1</td>\n",
       "      <td>Medium/ Medium</td>\n",
       "      <td>GK</td>\n",
       "      <td>1</td>\n",
       "      <td>6.500000</td>\n",
       "      <td>212</td>\n",
       "    </tr>\n",
       "    <tr>\n",
       "      <th>20</th>\n",
       "      <td>Sergio Busquets</td>\n",
       "      <td>29</td>\n",
       "      <td>Spain</td>\n",
       "      <td>89</td>\n",
       "      <td>89</td>\n",
       "      <td>FC Barcelona</td>\n",
       "      <td>Right</td>\n",
       "      <td>4</td>\n",
       "      <td>3</td>\n",
       "      <td>3</td>\n",
       "      <td>Medium/ Medium</td>\n",
       "      <td>CDM</td>\n",
       "      <td>5</td>\n",
       "      <td>6.166667</td>\n",
       "      <td>168</td>\n",
       "    </tr>\n",
       "    <tr>\n",
       "      <th>21</th>\n",
       "      <td>E. Cavani</td>\n",
       "      <td>31</td>\n",
       "      <td>Uruguay</td>\n",
       "      <td>89</td>\n",
       "      <td>89</td>\n",
       "      <td>Paris Saint-Germain</td>\n",
       "      <td>Right</td>\n",
       "      <td>4</td>\n",
       "      <td>4</td>\n",
       "      <td>3</td>\n",
       "      <td>High/ High</td>\n",
       "      <td>LS</td>\n",
       "      <td>21</td>\n",
       "      <td>6.083333</td>\n",
       "      <td>170</td>\n",
       "    </tr>\n",
       "    <tr>\n",
       "      <th>22</th>\n",
       "      <td>M. Neuer</td>\n",
       "      <td>32</td>\n",
       "      <td>Germany</td>\n",
       "      <td>89</td>\n",
       "      <td>89</td>\n",
       "      <td>FC Bayern MÃ¼nchen</td>\n",
       "      <td>Right</td>\n",
       "      <td>5</td>\n",
       "      <td>4</td>\n",
       "      <td>1</td>\n",
       "      <td>Medium/ Medium</td>\n",
       "      <td>GK</td>\n",
       "      <td>1</td>\n",
       "      <td>6.333333</td>\n",
       "      <td>203</td>\n",
       "    </tr>\n",
       "    <tr>\n",
       "      <th>23</th>\n",
       "      <td>S. AgÃ¼ero</td>\n",
       "      <td>30</td>\n",
       "      <td>Argentina</td>\n",
       "      <td>89</td>\n",
       "      <td>89</td>\n",
       "      <td>Manchester City</td>\n",
       "      <td>Right</td>\n",
       "      <td>4</td>\n",
       "      <td>4</td>\n",
       "      <td>4</td>\n",
       "      <td>High/ Medium</td>\n",
       "      <td>ST</td>\n",
       "      <td>10</td>\n",
       "      <td>5.666667</td>\n",
       "      <td>154</td>\n",
       "    </tr>\n",
       "    <tr>\n",
       "      <th>24</th>\n",
       "      <td>G. Chiellini</td>\n",
       "      <td>33</td>\n",
       "      <td>Italy</td>\n",
       "      <td>89</td>\n",
       "      <td>89</td>\n",
       "      <td>Juventus</td>\n",
       "      <td>Left</td>\n",
       "      <td>4</td>\n",
       "      <td>3</td>\n",
       "      <td>2</td>\n",
       "      <td>Medium/ High</td>\n",
       "      <td>LCB</td>\n",
       "      <td>3</td>\n",
       "      <td>6.166667</td>\n",
       "      <td>187</td>\n",
       "    </tr>\n",
       "    <tr>\n",
       "      <th>25</th>\n",
       "      <td>K. MbappÃ©</td>\n",
       "      <td>19</td>\n",
       "      <td>France</td>\n",
       "      <td>88</td>\n",
       "      <td>95</td>\n",
       "      <td>Paris Saint-Germain</td>\n",
       "      <td>Right</td>\n",
       "      <td>3</td>\n",
       "      <td>4</td>\n",
       "      <td>5</td>\n",
       "      <td>High/ Medium</td>\n",
       "      <td>RM</td>\n",
       "      <td>10</td>\n",
       "      <td>5.083333</td>\n",
       "      <td>161</td>\n",
       "    </tr>\n",
       "    <tr>\n",
       "      <th>26</th>\n",
       "      <td>M. Salah</td>\n",
       "      <td>26</td>\n",
       "      <td>Egypt</td>\n",
       "      <td>88</td>\n",
       "      <td>89</td>\n",
       "      <td>Liverpool</td>\n",
       "      <td>Left</td>\n",
       "      <td>3</td>\n",
       "      <td>3</td>\n",
       "      <td>4</td>\n",
       "      <td>High/ Medium</td>\n",
       "      <td>RM</td>\n",
       "      <td>10</td>\n",
       "      <td>5.750000</td>\n",
       "      <td>157</td>\n",
       "    </tr>\n",
       "    <tr>\n",
       "      <th>27</th>\n",
       "      <td>Casemiro</td>\n",
       "      <td>26</td>\n",
       "      <td>Brazil</td>\n",
       "      <td>88</td>\n",
       "      <td>90</td>\n",
       "      <td>Real Madrid</td>\n",
       "      <td>Right</td>\n",
       "      <td>3</td>\n",
       "      <td>3</td>\n",
       "      <td>2</td>\n",
       "      <td>Medium/ High</td>\n",
       "      <td>CDM</td>\n",
       "      <td>14</td>\n",
       "      <td>6.083333</td>\n",
       "      <td>185</td>\n",
       "    </tr>\n",
       "    <tr>\n",
       "      <th>28</th>\n",
       "      <td>J. RodrÃ­guez</td>\n",
       "      <td>26</td>\n",
       "      <td>Colombia</td>\n",
       "      <td>88</td>\n",
       "      <td>89</td>\n",
       "      <td>FC Bayern MÃ¼nchen</td>\n",
       "      <td>Left</td>\n",
       "      <td>4</td>\n",
       "      <td>3</td>\n",
       "      <td>4</td>\n",
       "      <td>Medium/ Medium</td>\n",
       "      <td>LAM</td>\n",
       "      <td>10</td>\n",
       "      <td>5.083333</td>\n",
       "      <td>172</td>\n",
       "    </tr>\n",
       "    <tr>\n",
       "      <th>29</th>\n",
       "      <td>L. Insigne</td>\n",
       "      <td>27</td>\n",
       "      <td>Italy</td>\n",
       "      <td>88</td>\n",
       "      <td>88</td>\n",
       "      <td>Napoli</td>\n",
       "      <td>Right</td>\n",
       "      <td>3</td>\n",
       "      <td>3</td>\n",
       "      <td>4</td>\n",
       "      <td>High/ Medium</td>\n",
       "      <td>LW</td>\n",
       "      <td>10</td>\n",
       "      <td>5.333333</td>\n",
       "      <td>130</td>\n",
       "    </tr>\n",
       "  </tbody>\n",
       "</table>\n",
       "</div>"
      ],
      "text/plain": [
       "                 Name  Age Nationality  Overall_rating  Potential  \\\n",
       "0            L. Messi   31   Argentina              94         94   \n",
       "1   Cristiano Ronaldo   33    Portugal              94         94   \n",
       "2           Neymar Jr   26      Brazil              92         93   \n",
       "3              De Gea   27       Spain              91         93   \n",
       "4        K. De Bruyne   27     Belgium              91         92   \n",
       "5           E. Hazard   27     Belgium              91         91   \n",
       "6          L. ModriÄ‡   32     Croatia              91         91   \n",
       "7          L. SuÃ¡rez   31     Uruguay              91         91   \n",
       "8        Sergio Ramos   32       Spain              91         91   \n",
       "9            J. Oblak   25    Slovenia              90         93   \n",
       "10     R. Lewandowski   29      Poland              90         90   \n",
       "11           T. Kroos   28     Germany              90         90   \n",
       "12          D. GodÃ­n   32     Uruguay              90         90   \n",
       "13        David Silva   32       Spain              90         90   \n",
       "14          N. KantÃ©   27      France              89         90   \n",
       "15          P. Dybala   24   Argentina              89         94   \n",
       "16            H. Kane   24     England              89         91   \n",
       "17       A. Griezmann   27      France              89         90   \n",
       "18      M. ter Stegen   26     Germany              89         92   \n",
       "19        T. Courtois   26     Belgium              89         90   \n",
       "20    Sergio Busquets   29       Spain              89         89   \n",
       "21          E. Cavani   31     Uruguay              89         89   \n",
       "22           M. Neuer   32     Germany              89         89   \n",
       "23         S. AgÃ¼ero   30   Argentina              89         89   \n",
       "24       G. Chiellini   33       Italy              89         89   \n",
       "25         K. MbappÃ©   19      France              88         95   \n",
       "26           M. Salah   26       Egypt              88         89   \n",
       "27           Casemiro   26      Brazil              88         90   \n",
       "28      J. RodrÃ­guez   26    Colombia              88         89   \n",
       "29         L. Insigne   27       Italy              88         88   \n",
       "\n",
       "                   Club Preferred Foot  International Reputation  Weak Foot  \\\n",
       "0          FC Barcelona           Left                         5          4   \n",
       "1              Juventus          Right                         5          4   \n",
       "2   Paris Saint-Germain          Right                         5          5   \n",
       "3     Manchester United          Right                         4          3   \n",
       "4       Manchester City          Right                         4          5   \n",
       "5               Chelsea          Right                         4          4   \n",
       "6           Real Madrid          Right                         4          4   \n",
       "7          FC Barcelona          Right                         5          4   \n",
       "8           Real Madrid          Right                         4          3   \n",
       "9      AtlÃ©tico Madrid          Right                         3          3   \n",
       "10   FC Bayern MÃ¼nchen          Right                         4          4   \n",
       "11          Real Madrid          Right                         4          5   \n",
       "12     AtlÃ©tico Madrid          Right                         3          3   \n",
       "13      Manchester City           Left                         4          2   \n",
       "14              Chelsea          Right                         3          3   \n",
       "15             Juventus           Left                         3          3   \n",
       "16    Tottenham Hotspur          Right                         3          4   \n",
       "17     AtlÃ©tico Madrid           Left                         4          3   \n",
       "18         FC Barcelona          Right                         3          4   \n",
       "19          Real Madrid           Left                         4          2   \n",
       "20         FC Barcelona          Right                         4          3   \n",
       "21  Paris Saint-Germain          Right                         4          4   \n",
       "22   FC Bayern MÃ¼nchen          Right                         5          4   \n",
       "23      Manchester City          Right                         4          4   \n",
       "24             Juventus           Left                         4          3   \n",
       "25  Paris Saint-Germain          Right                         3          4   \n",
       "26            Liverpool           Left                         3          3   \n",
       "27          Real Madrid          Right                         3          3   \n",
       "28   FC Bayern MÃ¼nchen           Left                         4          3   \n",
       "29               Napoli          Right                         3          3   \n",
       "\n",
       "    Skill Moves       Work Rate Position  Jersey Number    Height  Weight  \n",
       "0             4  Medium/ Medium       RF             10  5.583333     159  \n",
       "1             5       High/ Low       ST              7  6.166667     183  \n",
       "2             5    High/ Medium       LW             10  5.750000     150  \n",
       "3             1  Medium/ Medium       GK              1  6.333333     168  \n",
       "4             4      High/ High      RCM              7  5.083333     154  \n",
       "5             4    High/ Medium       LF             10  5.666667     163  \n",
       "6             4      High/ High      RCM             10  5.666667     146  \n",
       "7             3    High/ Medium       RS              9  6.000000     190  \n",
       "8             3    High/ Medium      RCB             15  6.000000     181  \n",
       "9             1  Medium/ Medium       GK              1  6.166667     192  \n",
       "10            4    High/ Medium       ST              9  6.000000     176  \n",
       "11            3  Medium/ Medium      LCM              8  6.000000     168  \n",
       "12            2    Medium/ High       CB             10  6.166667     172  \n",
       "13            4    High/ Medium      LCM             21  5.666667     148  \n",
       "14            2    Medium/ High      LDM             13  5.500000     159  \n",
       "15            4    High/ Medium       LF             21  5.083333     165  \n",
       "16            3      High/ High       ST              9  6.166667     196  \n",
       "17            4      High/ High      CAM              7  5.750000     161  \n",
       "18            1  Medium/ Medium       GK             22  6.166667     187  \n",
       "19            1  Medium/ Medium       GK              1  6.500000     212  \n",
       "20            3  Medium/ Medium      CDM              5  6.166667     168  \n",
       "21            3      High/ High       LS             21  6.083333     170  \n",
       "22            1  Medium/ Medium       GK              1  6.333333     203  \n",
       "23            4    High/ Medium       ST             10  5.666667     154  \n",
       "24            2    Medium/ High      LCB              3  6.166667     187  \n",
       "25            5    High/ Medium       RM             10  5.083333     161  \n",
       "26            4    High/ Medium       RM             10  5.750000     157  \n",
       "27            2    Medium/ High      CDM             14  6.083333     185  \n",
       "28            4  Medium/ Medium      LAM             10  5.083333     172  \n",
       "29            4    High/ Medium       LW             10  5.333333     130  "
      ]
     },
     "execution_count": 59,
     "metadata": {},
     "output_type": "execute_result"
    }
   ],
   "source": [
    "df = pd.read_csv(\"fifa_stats.csv\")\n",
    "df.head(30)"
   ]
  },
  {
   "cell_type": "code",
   "execution_count": 60,
   "id": "455ade1a",
   "metadata": {},
   "outputs": [
    {
     "data": {
      "text/plain": [
       "(2000, 15)"
      ]
     },
     "execution_count": 60,
     "metadata": {},
     "output_type": "execute_result"
    }
   ],
   "source": [
    "df.shape"
   ]
  },
  {
   "cell_type": "markdown",
   "id": "c3abcea5",
   "metadata": {},
   "source": [
    "### Performing basic EDA operations"
   ]
  },
  {
   "cell_type": "code",
   "execution_count": 61,
   "id": "814982f3",
   "metadata": {},
   "outputs": [
    {
     "data": {
      "image/png": "[encoded data removed]",
      "text/plain": [
       "<Figure size 1080x576 with 9 Axes>"
      ]
     },
     "metadata": {
      "needs_background": "light"
     },
     "output_type": "display_data"
    }
   ],
   "source": [
    "#univariate analysis : histogram will show the distribution of each feature\n",
    "df.hist(figsize=(15,8));"
   ]
  },
  {
   "cell_type": "raw",
   "id": "f7b30198",
   "metadata": {},
   "source": [
    "All the features are seen to have potential outliers which needs to be treated befor performing statistical operations"
   ]
  },
  {
   "cell_type": "code",
   "execution_count": 62,
   "id": "d60d3a36",
   "metadata": {},
   "outputs": [
    {
     "data": {
      "text/html": [
       "<div>\n",
       "<style scoped>\n",
       "    .dataframe tbody tr th:only-of-type {\n",
       "        vertical-align: middle;\n",
       "    }\n",
       "\n",
       "    .dataframe tbody tr th {\n",
       "        vertical-align: top;\n",
       "    }\n",
       "\n",
       "    .dataframe thead th {\n",
       "        text-align: right;\n",
       "    }\n",
       "</style>\n",
       "<table border=\"1\" class=\"dataframe\">\n",
       "  <thead>\n",
       "    <tr style=\"text-align: right;\">\n",
       "      <th></th>\n",
       "      <th>Age</th>\n",
       "      <th>Overall_rating</th>\n",
       "      <th>Potential</th>\n",
       "      <th>International Reputation</th>\n",
       "      <th>Weak Foot</th>\n",
       "      <th>Skill Moves</th>\n",
       "      <th>Jersey Number</th>\n",
       "      <th>Height</th>\n",
       "      <th>Weight</th>\n",
       "    </tr>\n",
       "  </thead>\n",
       "  <tbody>\n",
       "    <tr>\n",
       "      <th>Age</th>\n",
       "      <td>1.000000</td>\n",
       "      <td>0.063348</td>\n",
       "      <td>-0.511339</td>\n",
       "      <td>0.314808</td>\n",
       "      <td>-0.060940</td>\n",
       "      <td>-0.206624</td>\n",
       "      <td>-0.039370</td>\n",
       "      <td>0.065510</td>\n",
       "      <td>0.151674</td>\n",
       "    </tr>\n",
       "    <tr>\n",
       "      <th>Overall_rating</th>\n",
       "      <td>0.063348</td>\n",
       "      <td>1.000000</td>\n",
       "      <td>0.732695</td>\n",
       "      <td>0.661603</td>\n",
       "      <td>0.103579</td>\n",
       "      <td>0.081593</td>\n",
       "      <td>-0.094865</td>\n",
       "      <td>0.041815</td>\n",
       "      <td>0.055342</td>\n",
       "    </tr>\n",
       "    <tr>\n",
       "      <th>Potential</th>\n",
       "      <td>-0.511339</td>\n",
       "      <td>0.732695</td>\n",
       "      <td>1.000000</td>\n",
       "      <td>0.327717</td>\n",
       "      <td>0.099179</td>\n",
       "      <td>0.127366</td>\n",
       "      <td>-0.037827</td>\n",
       "      <td>0.030624</td>\n",
       "      <td>-0.017228</td>\n",
       "    </tr>\n",
       "    <tr>\n",
       "      <th>International Reputation</th>\n",
       "      <td>0.314808</td>\n",
       "      <td>0.661603</td>\n",
       "      <td>0.327717</td>\n",
       "      <td>1.000000</td>\n",
       "      <td>0.105748</td>\n",
       "      <td>0.088652</td>\n",
       "      <td>-0.032622</td>\n",
       "      <td>0.041700</td>\n",
       "      <td>0.071167</td>\n",
       "    </tr>\n",
       "    <tr>\n",
       "      <th>Weak Foot</th>\n",
       "      <td>-0.060940</td>\n",
       "      <td>0.103579</td>\n",
       "      <td>0.099179</td>\n",
       "      <td>0.105748</td>\n",
       "      <td>1.000000</td>\n",
       "      <td>0.342505</td>\n",
       "      <td>0.038840</td>\n",
       "      <td>-0.187942</td>\n",
       "      <td>-0.201137</td>\n",
       "    </tr>\n",
       "    <tr>\n",
       "      <th>Skill Moves</th>\n",
       "      <td>-0.206624</td>\n",
       "      <td>0.081593</td>\n",
       "      <td>0.127366</td>\n",
       "      <td>0.088652</td>\n",
       "      <td>0.342505</td>\n",
       "      <td>1.000000</td>\n",
       "      <td>0.065322</td>\n",
       "      <td>-0.472939</td>\n",
       "      <td>-0.528310</td>\n",
       "    </tr>\n",
       "    <tr>\n",
       "      <th>Jersey Number</th>\n",
       "      <td>-0.039370</td>\n",
       "      <td>-0.094865</td>\n",
       "      <td>-0.037827</td>\n",
       "      <td>-0.032622</td>\n",
       "      <td>0.038840</td>\n",
       "      <td>0.065322</td>\n",
       "      <td>1.000000</td>\n",
       "      <td>0.005081</td>\n",
       "      <td>-0.015377</td>\n",
       "    </tr>\n",
       "    <tr>\n",
       "      <th>Height</th>\n",
       "      <td>0.065510</td>\n",
       "      <td>0.041815</td>\n",
       "      <td>0.030624</td>\n",
       "      <td>0.041700</td>\n",
       "      <td>-0.187942</td>\n",
       "      <td>-0.472939</td>\n",
       "      <td>0.005081</td>\n",
       "      <td>1.000000</td>\n",
       "      <td>0.544016</td>\n",
       "    </tr>\n",
       "    <tr>\n",
       "      <th>Weight</th>\n",
       "      <td>0.151674</td>\n",
       "      <td>0.055342</td>\n",
       "      <td>-0.017228</td>\n",
       "      <td>0.071167</td>\n",
       "      <td>-0.201137</td>\n",
       "      <td>-0.528310</td>\n",
       "      <td>-0.015377</td>\n",
       "      <td>0.544016</td>\n",
       "      <td>1.000000</td>\n",
       "    </tr>\n",
       "  </tbody>\n",
       "</table>\n",
       "</div>"
      ],
      "text/plain": [
       "                               Age  Overall_rating  Potential  \\\n",
       "Age                       1.000000        0.063348  -0.511339   \n",
       "Overall_rating            0.063348        1.000000   0.732695   \n",
       "Potential                -0.511339        0.732695   1.000000   \n",
       "International Reputation  0.314808        0.661603   0.327717   \n",
       "Weak Foot                -0.060940        0.103579   0.099179   \n",
       "Skill Moves              -0.206624        0.081593   0.127366   \n",
       "Jersey Number            -0.039370       -0.094865  -0.037827   \n",
       "Height                    0.065510        0.041815   0.030624   \n",
       "Weight                    0.151674        0.055342  -0.017228   \n",
       "\n",
       "                          International Reputation  Weak Foot  Skill Moves  \\\n",
       "Age                                       0.314808  -0.060940    -0.206624   \n",
       "Overall_rating                            0.661603   0.103579     0.081593   \n",
       "Potential                                 0.327717   0.099179     0.127366   \n",
       "International Reputation                  1.000000   0.105748     0.088652   \n",
       "Weak Foot                                 0.105748   1.000000     0.342505   \n",
       "Skill Moves                               0.088652   0.342505     1.000000   \n",
       "Jersey Number                            -0.032622   0.038840     0.065322   \n",
       "Height                                    0.041700  -0.187942    -0.472939   \n",
       "Weight                                    0.071167  -0.201137    -0.528310   \n",
       "\n",
       "                          Jersey Number    Height    Weight  \n",
       "Age                           -0.039370  0.065510  0.151674  \n",
       "Overall_rating                -0.094865  0.041815  0.055342  \n",
       "Potential                     -0.037827  0.030624 -0.017228  \n",
       "International Reputation      -0.032622  0.041700  0.071167  \n",
       "Weak Foot                      0.038840 -0.187942 -0.201137  \n",
       "Skill Moves                    0.065322 -0.472939 -0.528310  \n",
       "Jersey Number                  1.000000  0.005081 -0.015377  \n",
       "Height                         0.005081  1.000000  0.544016  \n",
       "Weight                        -0.015377  0.544016  1.000000  "
      ]
     },
     "execution_count": 62,
     "metadata": {},
     "output_type": "execute_result"
    }
   ],
   "source": [
    "#correlation analysis\n",
    "df.corr()"
   ]
  },
  {
   "cell_type": "code",
   "execution_count": 63,
   "id": "d27be438",
   "metadata": {},
   "outputs": [
    {
     "data": {
      "image/png": "[encoded data removed]",
      "text/plain": [
       "<Figure size 1080x576 with 2 Axes>"
      ]
     },
     "metadata": {
      "needs_background": "light"
     },
     "output_type": "display_data"
    }
   ],
   "source": [
    "plt.figure(figsize=(15,8))\n",
    "sns.heatmap(df.corr(),annot = True);"
   ]
  },
  {
   "cell_type": "code",
   "execution_count": 64,
   "id": "be538057",
   "metadata": {},
   "outputs": [
    {
     "name": "stdout",
     "output_type": "stream",
     "text": [
      "<class 'pandas.core.frame.DataFrame'>\n",
      "RangeIndex: 2000 entries, 0 to 1999\n",
      "Data columns (total 15 columns):\n",
      " #   Column                    Non-Null Count  Dtype  \n",
      "---  ------                    --------------  -----  \n",
      " 0   Name                      2000 non-null   object \n",
      " 1   Age                       2000 non-null   int64  \n",
      " 2   Nationality               2000 non-null   object \n",
      " 3   Overall_rating            2000 non-null   int64  \n",
      " 4   Potential                 2000 non-null   int64  \n",
      " 5   Club                      1981 non-null   object \n",
      " 6   Preferred Foot            2000 non-null   object \n",
      " 7   International Reputation  2000 non-null   int64  \n",
      " 8   Weak Foot                 2000 non-null   int64  \n",
      " 9   Skill Moves               2000 non-null   int64  \n",
      " 10  Work Rate                 2000 non-null   object \n",
      " 11  Position                  2000 non-null   object \n",
      " 12  Jersey Number             2000 non-null   int64  \n",
      " 13  Height                    2000 non-null   float64\n",
      " 14  Weight                    2000 non-null   int64  \n",
      "dtypes: float64(1), int64(8), object(6)\n",
      "memory usage: 234.5+ KB\n"
     ]
    }
   ],
   "source": [
    "df.info()"
   ]
  },
  {
   "cell_type": "code",
   "execution_count": 65,
   "id": "c2f4f052",
   "metadata": {},
   "outputs": [
    {
     "data": {
      "text/plain": [
       "Name                         0\n",
       "Age                          0\n",
       "Nationality                  0\n",
       "Overall_rating               0\n",
       "Potential                    0\n",
       "Club                        19\n",
       "Preferred Foot               0\n",
       "International Reputation     0\n",
       "Weak Foot                    0\n",
       "Skill Moves                  0\n",
       "Work Rate                    0\n",
       "Position                     0\n",
       "Jersey Number                0\n",
       "Height                       0\n",
       "Weight                       0\n",
       "dtype: int64"
      ]
     },
     "execution_count": 65,
     "metadata": {},
     "output_type": "execute_result"
    }
   ],
   "source": [
    "df.isnull().sum()"
   ]
  },
  {
   "cell_type": "code",
   "execution_count": 66,
   "id": "6672de37",
   "metadata": {},
   "outputs": [
    {
     "data": {
      "text/html": [
       "<div>\n",
       "<style scoped>\n",
       "    .dataframe tbody tr th:only-of-type {\n",
       "        vertical-align: middle;\n",
       "    }\n",
       "\n",
       "    .dataframe tbody tr th {\n",
       "        vertical-align: top;\n",
       "    }\n",
       "\n",
       "    .dataframe thead th {\n",
       "        text-align: right;\n",
       "    }\n",
       "</style>\n",
       "<table border=\"1\" class=\"dataframe\">\n",
       "  <thead>\n",
       "    <tr style=\"text-align: right;\">\n",
       "      <th></th>\n",
       "      <th>Name</th>\n",
       "      <th>Age</th>\n",
       "      <th>Nationality</th>\n",
       "      <th>Overall_rating</th>\n",
       "      <th>Potential</th>\n",
       "      <th>Club</th>\n",
       "      <th>Preferred Foot</th>\n",
       "      <th>International Reputation</th>\n",
       "      <th>Weak Foot</th>\n",
       "      <th>Skill Moves</th>\n",
       "      <th>Work Rate</th>\n",
       "      <th>Position</th>\n",
       "      <th>Jersey Number</th>\n",
       "      <th>Height</th>\n",
       "      <th>Weight</th>\n",
       "    </tr>\n",
       "  </thead>\n",
       "  <tbody>\n",
       "    <tr>\n",
       "      <th>0</th>\n",
       "      <td>False</td>\n",
       "      <td>False</td>\n",
       "      <td>False</td>\n",
       "      <td>False</td>\n",
       "      <td>False</td>\n",
       "      <td>False</td>\n",
       "      <td>False</td>\n",
       "      <td>False</td>\n",
       "      <td>False</td>\n",
       "      <td>False</td>\n",
       "      <td>False</td>\n",
       "      <td>False</td>\n",
       "      <td>False</td>\n",
       "      <td>False</td>\n",
       "      <td>False</td>\n",
       "    </tr>\n",
       "    <tr>\n",
       "      <th>1</th>\n",
       "      <td>False</td>\n",
       "      <td>False</td>\n",
       "      <td>False</td>\n",
       "      <td>False</td>\n",
       "      <td>False</td>\n",
       "      <td>False</td>\n",
       "      <td>False</td>\n",
       "      <td>False</td>\n",
       "      <td>False</td>\n",
       "      <td>False</td>\n",
       "      <td>False</td>\n",
       "      <td>False</td>\n",
       "      <td>False</td>\n",
       "      <td>False</td>\n",
       "      <td>False</td>\n",
       "    </tr>\n",
       "  </tbody>\n",
       "</table>\n",
       "</div>"
      ],
      "text/plain": [
       "    Name    Age  Nationality  Overall_rating  Potential   Club  \\\n",
       "0  False  False        False           False      False  False   \n",
       "1  False  False        False           False      False  False   \n",
       "\n",
       "   Preferred Foot  International Reputation  Weak Foot  Skill Moves  \\\n",
       "0           False                     False      False        False   \n",
       "1           False                     False      False        False   \n",
       "\n",
       "   Work Rate  Position  Jersey Number  Height  Weight  \n",
       "0      False     False          False   False   False  \n",
       "1      False     False          False   False   False  "
      ]
     },
     "execution_count": 66,
     "metadata": {},
     "output_type": "execute_result"
    }
   ],
   "source": [
    "#Thus we infer that there are 19 null values in club column and let's drop them\n",
    "na_data = df.isna()\n",
    "na_data.head(2)"
   ]
  },
  {
   "cell_type": "code",
   "execution_count": 67,
   "id": "9aab1961",
   "metadata": {},
   "outputs": [
    {
     "data": {
      "text/plain": [
       "True"
      ]
     },
     "execution_count": 67,
     "metadata": {},
     "output_type": "execute_result"
    }
   ],
   "source": [
    "df.isnull().values.any()"
   ]
  },
  {
   "cell_type": "code",
   "execution_count": 154,
   "id": "6a60305e",
   "metadata": {},
   "outputs": [
    {
     "data": {
      "text/plain": [
       "Name                        0\n",
       "Age                         0\n",
       "Nationality                 0\n",
       "Overall_rating              0\n",
       "Potential                   0\n",
       "Club                        0\n",
       "Preferred Foot              0\n",
       "International Reputation    0\n",
       "Weak Foot                   0\n",
       "Skill Moves                 0\n",
       "Work Rate                   0\n",
       "Position                    0\n",
       "Jersey Number               0\n",
       "Height                      0\n",
       "Weight                      0\n",
       "dtype: int64"
      ]
     },
     "execution_count": 154,
     "metadata": {},
     "output_type": "execute_result"
    }
   ],
   "source": [
    "df = df[~ df.Club.isnull()].copy()\n",
    "df.isnull().sum()"
   ]
  },
  {
   "cell_type": "markdown",
   "id": "ab35e38c",
   "metadata": {},
   "source": [
    "### 1. Perform the following statistical analysis on the fifa world cup dataset. The dataset consists of player information which includes height, weight overall rating, potential etc. Data Cleaning and basic EDA process needs to be performed. \n",
    "\n"
   ]
  },
  {
   "cell_type": "markdown",
   "id": "0c791719",
   "metadata": {},
   "source": [
    "#### a)\tAssuming age as population, perform the central limit theorem with sample size of 200. Find the standard error and the mean of sampling distribution. Compare the results with population mean and standard deviation. Explain in non-technical terms why the estimated standard error of a sample mean tends to decrease with an increase in sample size"
   ]
  },
  {
   "cell_type": "code",
   "execution_count": 155,
   "id": "ca3c35b9",
   "metadata": {},
   "outputs": [
    {
     "data": {
      "text/html": [
       "<div>\n",
       "<style scoped>\n",
       "    .dataframe tbody tr th:only-of-type {\n",
       "        vertical-align: middle;\n",
       "    }\n",
       "\n",
       "    .dataframe tbody tr th {\n",
       "        vertical-align: top;\n",
       "    }\n",
       "\n",
       "    .dataframe thead th {\n",
       "        text-align: right;\n",
       "    }\n",
       "</style>\n",
       "<table border=\"1\" class=\"dataframe\">\n",
       "  <thead>\n",
       "    <tr style=\"text-align: right;\">\n",
       "      <th></th>\n",
       "      <th>Name</th>\n",
       "      <th>Age</th>\n",
       "      <th>Nationality</th>\n",
       "      <th>Overall_rating</th>\n",
       "      <th>Potential</th>\n",
       "      <th>Club</th>\n",
       "      <th>Preferred Foot</th>\n",
       "      <th>International Reputation</th>\n",
       "      <th>Weak Foot</th>\n",
       "      <th>Skill Moves</th>\n",
       "      <th>Work Rate</th>\n",
       "      <th>Position</th>\n",
       "      <th>Jersey Number</th>\n",
       "      <th>Height</th>\n",
       "      <th>Weight</th>\n",
       "    </tr>\n",
       "  </thead>\n",
       "  <tbody>\n",
       "    <tr>\n",
       "      <th>0</th>\n",
       "      <td>L. Messi</td>\n",
       "      <td>31</td>\n",
       "      <td>Argentina</td>\n",
       "      <td>94</td>\n",
       "      <td>94</td>\n",
       "      <td>FC Barcelona</td>\n",
       "      <td>Left</td>\n",
       "      <td>5</td>\n",
       "      <td>4</td>\n",
       "      <td>4</td>\n",
       "      <td>Medium/ Medium</td>\n",
       "      <td>RF</td>\n",
       "      <td>10</td>\n",
       "      <td>5.583333</td>\n",
       "      <td>159</td>\n",
       "    </tr>\n",
       "    <tr>\n",
       "      <th>1</th>\n",
       "      <td>Cristiano Ronaldo</td>\n",
       "      <td>33</td>\n",
       "      <td>Portugal</td>\n",
       "      <td>94</td>\n",
       "      <td>94</td>\n",
       "      <td>Juventus</td>\n",
       "      <td>Right</td>\n",
       "      <td>5</td>\n",
       "      <td>4</td>\n",
       "      <td>5</td>\n",
       "      <td>High/ Low</td>\n",
       "      <td>ST</td>\n",
       "      <td>7</td>\n",
       "      <td>6.166667</td>\n",
       "      <td>183</td>\n",
       "    </tr>\n",
       "    <tr>\n",
       "      <th>2</th>\n",
       "      <td>Neymar Jr</td>\n",
       "      <td>26</td>\n",
       "      <td>Brazil</td>\n",
       "      <td>92</td>\n",
       "      <td>93</td>\n",
       "      <td>Paris Saint-Germain</td>\n",
       "      <td>Right</td>\n",
       "      <td>5</td>\n",
       "      <td>5</td>\n",
       "      <td>5</td>\n",
       "      <td>High/ Medium</td>\n",
       "      <td>LW</td>\n",
       "      <td>10</td>\n",
       "      <td>5.750000</td>\n",
       "      <td>150</td>\n",
       "    </tr>\n",
       "    <tr>\n",
       "      <th>3</th>\n",
       "      <td>De Gea</td>\n",
       "      <td>27</td>\n",
       "      <td>Spain</td>\n",
       "      <td>91</td>\n",
       "      <td>93</td>\n",
       "      <td>Manchester United</td>\n",
       "      <td>Right</td>\n",
       "      <td>4</td>\n",
       "      <td>3</td>\n",
       "      <td>1</td>\n",
       "      <td>Medium/ Medium</td>\n",
       "      <td>GK</td>\n",
       "      <td>1</td>\n",
       "      <td>6.333333</td>\n",
       "      <td>168</td>\n",
       "    </tr>\n",
       "    <tr>\n",
       "      <th>4</th>\n",
       "      <td>K. De Bruyne</td>\n",
       "      <td>27</td>\n",
       "      <td>Belgium</td>\n",
       "      <td>91</td>\n",
       "      <td>92</td>\n",
       "      <td>Manchester City</td>\n",
       "      <td>Right</td>\n",
       "      <td>4</td>\n",
       "      <td>5</td>\n",
       "      <td>4</td>\n",
       "      <td>High/ High</td>\n",
       "      <td>RCM</td>\n",
       "      <td>7</td>\n",
       "      <td>5.083333</td>\n",
       "      <td>154</td>\n",
       "    </tr>\n",
       "  </tbody>\n",
       "</table>\n",
       "</div>"
      ],
      "text/plain": [
       "                Name  Age Nationality  Overall_rating  Potential  \\\n",
       "0           L. Messi   31   Argentina              94         94   \n",
       "1  Cristiano Ronaldo   33    Portugal              94         94   \n",
       "2          Neymar Jr   26      Brazil              92         93   \n",
       "3             De Gea   27       Spain              91         93   \n",
       "4       K. De Bruyne   27     Belgium              91         92   \n",
       "\n",
       "                  Club Preferred Foot  International Reputation  Weak Foot  \\\n",
       "0         FC Barcelona           Left                         5          4   \n",
       "1             Juventus          Right                         5          4   \n",
       "2  Paris Saint-Germain          Right                         5          5   \n",
       "3    Manchester United          Right                         4          3   \n",
       "4      Manchester City          Right                         4          5   \n",
       "\n",
       "   Skill Moves       Work Rate Position  Jersey Number    Height  Weight  \n",
       "0            4  Medium/ Medium       RF             10  5.583333     159  \n",
       "1            5       High/ Low       ST              7  6.166667     183  \n",
       "2            5    High/ Medium       LW             10  5.750000     150  \n",
       "3            1  Medium/ Medium       GK              1  6.333333     168  \n",
       "4            4      High/ High      RCM              7  5.083333     154  "
      ]
     },
     "execution_count": 155,
     "metadata": {},
     "output_type": "execute_result"
    }
   ],
   "source": [
    "df.head()"
   ]
  },
  {
   "cell_type": "code",
   "execution_count": 156,
   "id": "841283fb",
   "metadata": {},
   "outputs": [
    {
     "data": {
      "text/plain": [
       "[26.78,\n",
       " 27.845,\n",
       " 27.085,\n",
       " 27.435,\n",
       " 27.695,\n",
       " 27.545,\n",
       " 27.585,\n",
       " 27.2,\n",
       " 27.36,\n",
       " 26.915,\n",
       " 27.4,\n",
       " 27.065,\n",
       " 27.475,\n",
       " 27.15,\n",
       " 27.495,\n",
       " 27.365,\n",
       " 27.47,\n",
       " 26.57,\n",
       " 27.0,\n",
       " 27.35,\n",
       " 27.215,\n",
       " 26.94,\n",
       " 27.255,\n",
       " 27.28,\n",
       " 26.89,\n",
       " 27.01,\n",
       " 27.185,\n",
       " 27.86,\n",
       " 27.315,\n",
       " 27.595,\n",
       " 27.01,\n",
       " 27.255,\n",
       " 27.15,\n",
       " 27.505,\n",
       " 27.375,\n",
       " 27.23,\n",
       " 27.29,\n",
       " 27.42,\n",
       " 27.415,\n",
       " 27.485,\n",
       " 27.215,\n",
       " 27.36,\n",
       " 27.255,\n",
       " 26.92,\n",
       " 26.65,\n",
       " 27.02,\n",
       " 27.58,\n",
       " 27.345,\n",
       " 27.105,\n",
       " 26.85,\n",
       " 26.905,\n",
       " 27.1,\n",
       " 26.945,\n",
       " 27.475,\n",
       " 27.295,\n",
       " 27.295,\n",
       " 27.575,\n",
       " 26.98,\n",
       " 27.28,\n",
       " 26.99,\n",
       " 27.27,\n",
       " 26.935,\n",
       " 27.415,\n",
       " 27.065,\n",
       " 27.22,\n",
       " 27.05,\n",
       " 27.135,\n",
       " 27.4,\n",
       " 27.265,\n",
       " 27.305,\n",
       " 27.26,\n",
       " 27.135,\n",
       " 27.475,\n",
       " 27.45,\n",
       " 27.03,\n",
       " 27.255,\n",
       " 27.195,\n",
       " 27.05,\n",
       " 26.91,\n",
       " 27.48,\n",
       " 27.19,\n",
       " 27.605,\n",
       " 27.22,\n",
       " 26.83,\n",
       " 27.27,\n",
       " 27.12,\n",
       " 27.355,\n",
       " 27.25,\n",
       " 27.265,\n",
       " 27.31,\n",
       " 26.99,\n",
       " 27.095,\n",
       " 27.5,\n",
       " 27.085,\n",
       " 27.28,\n",
       " 26.835,\n",
       " 27.485,\n",
       " 27.49,\n",
       " 27.19,\n",
       " 27.05]"
      ]
     },
     "execution_count": 156,
     "metadata": {},
     "output_type": "execute_result"
    }
   ],
   "source": [
    "import random\n",
    "sample_size = 200\n",
    "no_of_samples = 100\n",
    "\n",
    "sample_mean_list = []\n",
    "for i in range(no_of_samples):\n",
    "    sample_age = np.random.choice(list(df.Age),size = sample_size,replace = False)\n",
    "    sample_mean = np.mean(sample_age)\n",
    "    sample_mean_list.append(sample_mean)\n",
    "    \n",
    "sample_mean_list"
   ]
  },
  {
   "cell_type": "code",
   "execution_count": 157,
   "id": "bd6e4b30",
   "metadata": {},
   "outputs": [
    {
     "data": {
      "image/png": "[encoded data removed]",
      "text/plain": [
       "<Figure size 432x288 with 1 Axes>"
      ]
     },
     "metadata": {
      "needs_background": "light"
     },
     "output_type": "display_data"
    }
   ],
   "source": [
    "sns.distplot(sample_mean_list);"
   ]
  },
  {
   "cell_type": "code",
   "execution_count": 158,
   "id": "36f71a52",
   "metadata": {},
   "outputs": [
    {
     "name": "stdout",
     "output_type": "stream",
     "text": [
      "27.215547703180214\n",
      "27.233199999999997\n"
     ]
    }
   ],
   "source": [
    "print(np.mean(list(df.Age)))\n",
    "print(np.mean(sample_mean_list))"
   ]
  },
  {
   "cell_type": "raw",
   "id": "8652b512",
   "metadata": {},
   "source": [
    "#Test for normality -- shapiro test\n",
    "H0 : Data is normally distributed (Pvalue > 0.05)\n",
    "Ha : Data is not normally distributed(Pvalue  < 0.05)"
   ]
  },
  {
   "cell_type": "code",
   "execution_count": 159,
   "id": "12760841",
   "metadata": {},
   "outputs": [
    {
     "data": {
      "text/plain": [
       "0.8744961023330688"
      ]
     },
     "execution_count": 159,
     "metadata": {},
     "output_type": "execute_result"
    }
   ],
   "source": [
    "stats,pvalue = st.shapiro(sample_mean_list)\n",
    "pvalue"
   ]
  },
  {
   "cell_type": "raw",
   "id": "5d092a52",
   "metadata": {},
   "source": [
    "Data is normally distributed"
   ]
  },
  {
   "cell_type": "code",
   "execution_count": 162,
   "id": "76836354",
   "metadata": {},
   "outputs": [],
   "source": [
    "sigma_sample = np.std(sample_mean_list)\n",
    "std_error = sigma_sample/np.sqrt(sample_size)"
   ]
  },
  {
   "cell_type": "code",
   "execution_count": 163,
   "id": "63d6d0dd",
   "metadata": {},
   "outputs": [
    {
     "data": {
      "text/plain": [
       "0.24037420826702666"
      ]
     },
     "execution_count": 163,
     "metadata": {},
     "output_type": "execute_result"
    }
   ],
   "source": [
    "sigma_sample"
   ]
  },
  {
   "cell_type": "code",
   "execution_count": 164,
   "id": "c9d451bc",
   "metadata": {},
   "outputs": [
    {
     "data": {
      "text/plain": [
       "0.0169970232687962"
      ]
     },
     "execution_count": 164,
     "metadata": {},
     "output_type": "execute_result"
    }
   ],
   "source": [
    "std_error"
   ]
  },
  {
   "cell_type": "raw",
   "id": "4aecb6a7",
   "metadata": {},
   "source": [
    "when the population standard deviation is unknown,the sample standard deviation is the point estimate for the population standard deviation"
   ]
  },
  {
   "cell_type": "markdown",
   "id": "823131db",
   "metadata": {},
   "source": [
    "#### b)\tIs there any evidence that the players overall rating is greater than 80?"
   ]
  },
  {
   "cell_type": "raw",
   "id": "9dcc0e96",
   "metadata": {},
   "source": [
    "#Test for normality -- shapiro test\n",
    "H0 : Data is normally distributed (Pvalue > 0.05)\n",
    "Ha : Data is not normally distributed(Pvalue  < 0.05)"
   ]
  },
  {
   "cell_type": "code",
   "execution_count": 165,
   "id": "214e86cc",
   "metadata": {},
   "outputs": [],
   "source": [
    "stats,pvalue  = st.shapiro(df['Overall_rating'])"
   ]
  },
  {
   "cell_type": "code",
   "execution_count": 166,
   "id": "c0f05bde",
   "metadata": {},
   "outputs": [
    {
     "data": {
      "text/plain": [
       "0"
      ]
     },
     "execution_count": 166,
     "metadata": {},
     "output_type": "execute_result"
    }
   ],
   "source": [
    "round(pvalue)"
   ]
  },
  {
   "cell_type": "raw",
   "id": "3324046c",
   "metadata": {},
   "source": [
    "Hence we reject the null hypothesis,data is not normally distributed"
   ]
  },
  {
   "cell_type": "raw",
   "id": "1aa8c2be",
   "metadata": {},
   "source": [
    "H0 : overall rating (mu) <= 80\n",
    "Ha : overall rating (mu) > 80\n",
    "right tailed test"
   ]
  },
  {
   "cell_type": "code",
   "execution_count": 167,
   "id": "9fd619fa",
   "metadata": {},
   "outputs": [
    {
     "data": {
      "text/plain": [
       "-1.64"
      ]
     },
     "execution_count": 167,
     "metadata": {},
     "output_type": "execute_result"
    }
   ],
   "source": [
    "z_critical = round(st.norm.isf(q = 0.95),2)\n",
    "z_critical"
   ]
  },
  {
   "cell_type": "code",
   "execution_count": 168,
   "id": "e6289655",
   "metadata": {},
   "outputs": [
    {
     "data": {
      "text/plain": [
       "(-24.161970492711205, 1.0)"
      ]
     },
     "execution_count": 168,
     "metadata": {},
     "output_type": "execute_result"
    }
   ],
   "source": [
    "from statsmodels.stats import weightstats as stests\n",
    "stests.ztest(x1 = df['Overall_rating'],value = 80,alternative= 'larger')"
   ]
  },
  {
   "cell_type": "code",
   "execution_count": 169,
   "id": "264c4f16",
   "metadata": {},
   "outputs": [
    {
     "data": {
      "text/plain": [
       "True"
      ]
     },
     "execution_count": 169,
     "metadata": {},
     "output_type": "execute_result"
    }
   ],
   "source": [
    "zcalc = -24.54\n",
    "zcalc < z_critical"
   ]
  },
  {
   "cell_type": "raw",
   "id": "b5e75e40",
   "metadata": {},
   "source": [
    "Hence,we reject the null hypothesis. There is evidence that the overall rating is greater than 80"
   ]
  },
  {
   "cell_type": "markdown",
   "id": "c8c2d4b4",
   "metadata": {},
   "source": [
    "#### c)\tPerform the statistical test to identify whether preferred foot has any impact on potential. Also, perform the graphical analysis."
   ]
  },
  {
   "cell_type": "code",
   "execution_count": 170,
   "id": "2bcbfda7",
   "metadata": {},
   "outputs": [
    {
     "data": {
      "image/png": "[encoded data removed]",
      "text/plain": [
       "<Figure size 1080x576 with 1 Axes>"
      ]
     },
     "metadata": {
      "needs_background": "light"
     },
     "output_type": "display_data"
    }
   ],
   "source": [
    "plt.figure(figsize= (15,8))\n",
    "ax = sns.barplot(x= df['Preferred Foot'],y = df['Potential'])"
   ]
  },
  {
   "cell_type": "code",
   "execution_count": 171,
   "id": "ef1aff85",
   "metadata": {},
   "outputs": [
    {
     "data": {
      "text/plain": [
       "Right    1519\n",
       "Left      462\n",
       "Name: Preferred Foot, dtype: int64"
      ]
     },
     "execution_count": 171,
     "metadata": {},
     "output_type": "execute_result"
    }
   ],
   "source": [
    "df['Preferred Foot'].value_counts()"
   ]
  },
  {
   "cell_type": "code",
   "execution_count": 172,
   "id": "99422f70",
   "metadata": {},
   "outputs": [
    {
     "data": {
      "text/plain": [
       "ShapiroResult(statistic=0.6875892877578735, pvalue=0.0)"
      ]
     },
     "execution_count": 172,
     "metadata": {},
     "output_type": "execute_result"
    }
   ],
   "source": [
    "st.shapiro([(df['Preferred Foot'] == 'Right'),df['Potential']])"
   ]
  },
  {
   "cell_type": "raw",
   "id": "35b8904e",
   "metadata": {},
   "source": [
    "Data is not normally distributed"
   ]
  },
  {
   "cell_type": "code",
   "execution_count": 173,
   "id": "91a80dce",
   "metadata": {},
   "outputs": [
    {
     "data": {
      "text/plain": [
       "ShapiroResult(statistic=0.6861785650253296, pvalue=0.0)"
      ]
     },
     "execution_count": 173,
     "metadata": {},
     "output_type": "execute_result"
    }
   ],
   "source": [
    "st.shapiro([(df['Preferred Foot'] == 'Left'),df['Potential']])"
   ]
  },
  {
   "cell_type": "raw",
   "id": "34a666f3",
   "metadata": {},
   "source": [
    "Data is not normally distributed"
   ]
  },
  {
   "cell_type": "code",
   "execution_count": 174,
   "id": "f1db9194",
   "metadata": {},
   "outputs": [
    {
     "data": {
      "text/plain": [
       "SpearmanrResult(correlation=-0.03019653362004952, pvalue=0.17912364256604602)"
      ]
     },
     "execution_count": 174,
     "metadata": {},
     "output_type": "execute_result"
    }
   ],
   "source": [
    "from scipy.stats import spearmanr\n",
    "#spearmanr test here is used to summarize thestrength between two data samples\n",
    "spearmanr(df['Preferred Foot'],df['Potential'])"
   ]
  },
  {
   "cell_type": "raw",
   "id": "ba67fffe",
   "metadata": {},
   "source": [
    "The test shows that the preferref foot has a positive impact(very less) on the potential of the palyers"
   ]
  },
  {
   "cell_type": "markdown",
   "id": "3d4e82eb",
   "metadata": {},
   "source": [
    "#### d)\tPerform the statistical test to identify the relation between the overall rating and potential. [Assume both are continuous data points]."
   ]
  },
  {
   "cell_type": "raw",
   "id": "7fb541d2",
   "metadata": {},
   "source": [
    "#Test for normality -- shapiro test\n",
    "H0 : Data is normally distributed (Pvalue > 0.05)\n",
    "Ha : Data is not normally distributed(Pvalue  < 0.05)\n",
    "Here we are testing the normality of overall rating and potential column"
   ]
  },
  {
   "cell_type": "code",
   "execution_count": 175,
   "id": "5d0c6a17",
   "metadata": {},
   "outputs": [
    {
     "data": {
      "text/plain": [
       "ShapiroResult(statistic=0.9392035603523254, pvalue=9.272585199141702e-28)"
      ]
     },
     "execution_count": 175,
     "metadata": {},
     "output_type": "execute_result"
    }
   ],
   "source": [
    "stats,pvalue_rating = st.shapiro(df['Overall_rating'])\n",
    "st.shapiro(df['Potential'])"
   ]
  },
  {
   "cell_type": "code",
   "execution_count": 176,
   "id": "09d7e087",
   "metadata": {},
   "outputs": [
    {
     "data": {
      "text/plain": [
       "0.0"
      ]
     },
     "execution_count": 176,
     "metadata": {},
     "output_type": "execute_result"
    }
   ],
   "source": [
    "round(pvalue_rating,2)"
   ]
  },
  {
   "cell_type": "raw",
   "id": "6b5c1298",
   "metadata": {},
   "source": [
    "Hence we reject the null hypothesis,overall rating data is not normally distributed"
   ]
  },
  {
   "cell_type": "code",
   "execution_count": 177,
   "id": "d8933220",
   "metadata": {},
   "outputs": [
    {
     "data": {
      "text/plain": [
       "0"
      ]
     },
     "execution_count": 177,
     "metadata": {},
     "output_type": "execute_result"
    }
   ],
   "source": [
    "round(pvalue_potential)"
   ]
  },
  {
   "cell_type": "raw",
   "id": "38379eaf",
   "metadata": {},
   "source": [
    "Hence we reject the null hypothesis,potential data is not normally distributed"
   ]
  },
  {
   "cell_type": "code",
   "execution_count": 178,
   "id": "c81b8efc",
   "metadata": {},
   "outputs": [
    {
     "data": {
      "image/png": "[encoded data removed]",
      "text/plain": [
       "<Figure size 432x288 with 1 Axes>"
      ]
     },
     "metadata": {
      "needs_background": "light"
     },
     "output_type": "display_data"
    }
   ],
   "source": [
    "sns.scatterplot(df['Potential'],df['Potential']);"
   ]
  },
  {
   "cell_type": "raw",
   "id": "ef7d79fb",
   "metadata": {},
   "source": [
    "The above scatterplot shows that there is a strong positive correlation between the two variables.Thus, as the potential of the player increases,the rating of the player also increases"
   ]
  },
  {
   "cell_type": "raw",
   "id": "0280a917",
   "metadata": {},
   "source": [
    "We use non parametric test(methods that do not assume a specific distribution of the data) to find the correlation between the variables "
   ]
  },
  {
   "cell_type": "code",
   "execution_count": 179,
   "id": "99409f92",
   "metadata": {},
   "outputs": [
    {
     "data": {
      "text/plain": [
       "SpearmanrResult(correlation=0.6896762033137155, pvalue=9.4917983051747e-280)"
      ]
     },
     "execution_count": 179,
     "metadata": {},
     "output_type": "execute_result"
    }
   ],
   "source": [
    "from scipy.stats import spearmanr\n",
    "#spearmanr test here is used to summarize thestrength between two data samples\n",
    "spearmanr(df['Potential'],df['Overall_rating'])"
   ]
  },
  {
   "cell_type": "raw",
   "id": "e6157f7a",
   "metadata": {},
   "source": [
    "Spearman’s correlation coefficient is 0.7 which shows that there is a strong positive relationship between potential and overall rating of the players"
   ]
  },
  {
   "cell_type": "markdown",
   "id": "f6a05a11",
   "metadata": {},
   "source": [
    "#### e)\tDoes skill move have any effect in overall rating. Perform the graphical analysis and the statistical analysis."
   ]
  },
  {
   "cell_type": "raw",
   "id": "b660ac69",
   "metadata": {},
   "source": [
    "We know from the above tests that the overall rating data is not normally distributed. Hence we again go for non parametric tests to check the relationship between the two variables"
   ]
  },
  {
   "cell_type": "code",
   "execution_count": 180,
   "id": "9735265e",
   "metadata": {},
   "outputs": [
    {
     "data": {
      "text/html": [
       "<div>\n",
       "<style scoped>\n",
       "    .dataframe tbody tr th:only-of-type {\n",
       "        vertical-align: middle;\n",
       "    }\n",
       "\n",
       "    .dataframe tbody tr th {\n",
       "        vertical-align: top;\n",
       "    }\n",
       "\n",
       "    .dataframe thead th {\n",
       "        text-align: right;\n",
       "    }\n",
       "</style>\n",
       "<table border=\"1\" class=\"dataframe\">\n",
       "  <thead>\n",
       "    <tr style=\"text-align: right;\">\n",
       "      <th></th>\n",
       "      <th>Name</th>\n",
       "      <th>Age</th>\n",
       "      <th>Nationality</th>\n",
       "      <th>Overall_rating</th>\n",
       "      <th>Potential</th>\n",
       "      <th>Club</th>\n",
       "      <th>Preferred Foot</th>\n",
       "      <th>International Reputation</th>\n",
       "      <th>Weak Foot</th>\n",
       "      <th>Skill Moves</th>\n",
       "      <th>Work Rate</th>\n",
       "      <th>Position</th>\n",
       "      <th>Jersey Number</th>\n",
       "      <th>Height</th>\n",
       "      <th>Weight</th>\n",
       "    </tr>\n",
       "  </thead>\n",
       "  <tbody>\n",
       "    <tr>\n",
       "      <th>0</th>\n",
       "      <td>L. Messi</td>\n",
       "      <td>31</td>\n",
       "      <td>Argentina</td>\n",
       "      <td>94</td>\n",
       "      <td>94</td>\n",
       "      <td>FC Barcelona</td>\n",
       "      <td>Left</td>\n",
       "      <td>5</td>\n",
       "      <td>4</td>\n",
       "      <td>4</td>\n",
       "      <td>Medium/ Medium</td>\n",
       "      <td>RF</td>\n",
       "      <td>10</td>\n",
       "      <td>5.583333</td>\n",
       "      <td>159</td>\n",
       "    </tr>\n",
       "    <tr>\n",
       "      <th>1</th>\n",
       "      <td>Cristiano Ronaldo</td>\n",
       "      <td>33</td>\n",
       "      <td>Portugal</td>\n",
       "      <td>94</td>\n",
       "      <td>94</td>\n",
       "      <td>Juventus</td>\n",
       "      <td>Right</td>\n",
       "      <td>5</td>\n",
       "      <td>4</td>\n",
       "      <td>5</td>\n",
       "      <td>High/ Low</td>\n",
       "      <td>ST</td>\n",
       "      <td>7</td>\n",
       "      <td>6.166667</td>\n",
       "      <td>183</td>\n",
       "    </tr>\n",
       "    <tr>\n",
       "      <th>2</th>\n",
       "      <td>Neymar Jr</td>\n",
       "      <td>26</td>\n",
       "      <td>Brazil</td>\n",
       "      <td>92</td>\n",
       "      <td>93</td>\n",
       "      <td>Paris Saint-Germain</td>\n",
       "      <td>Right</td>\n",
       "      <td>5</td>\n",
       "      <td>5</td>\n",
       "      <td>5</td>\n",
       "      <td>High/ Medium</td>\n",
       "      <td>LW</td>\n",
       "      <td>10</td>\n",
       "      <td>5.750000</td>\n",
       "      <td>150</td>\n",
       "    </tr>\n",
       "    <tr>\n",
       "      <th>3</th>\n",
       "      <td>De Gea</td>\n",
       "      <td>27</td>\n",
       "      <td>Spain</td>\n",
       "      <td>91</td>\n",
       "      <td>93</td>\n",
       "      <td>Manchester United</td>\n",
       "      <td>Right</td>\n",
       "      <td>4</td>\n",
       "      <td>3</td>\n",
       "      <td>1</td>\n",
       "      <td>Medium/ Medium</td>\n",
       "      <td>GK</td>\n",
       "      <td>1</td>\n",
       "      <td>6.333333</td>\n",
       "      <td>168</td>\n",
       "    </tr>\n",
       "    <tr>\n",
       "      <th>4</th>\n",
       "      <td>K. De Bruyne</td>\n",
       "      <td>27</td>\n",
       "      <td>Belgium</td>\n",
       "      <td>91</td>\n",
       "      <td>92</td>\n",
       "      <td>Manchester City</td>\n",
       "      <td>Right</td>\n",
       "      <td>4</td>\n",
       "      <td>5</td>\n",
       "      <td>4</td>\n",
       "      <td>High/ High</td>\n",
       "      <td>RCM</td>\n",
       "      <td>7</td>\n",
       "      <td>5.083333</td>\n",
       "      <td>154</td>\n",
       "    </tr>\n",
       "  </tbody>\n",
       "</table>\n",
       "</div>"
      ],
      "text/plain": [
       "                Name  Age Nationality  Overall_rating  Potential  \\\n",
       "0           L. Messi   31   Argentina              94         94   \n",
       "1  Cristiano Ronaldo   33    Portugal              94         94   \n",
       "2          Neymar Jr   26      Brazil              92         93   \n",
       "3             De Gea   27       Spain              91         93   \n",
       "4       K. De Bruyne   27     Belgium              91         92   \n",
       "\n",
       "                  Club Preferred Foot  International Reputation  Weak Foot  \\\n",
       "0         FC Barcelona           Left                         5          4   \n",
       "1             Juventus          Right                         5          4   \n",
       "2  Paris Saint-Germain          Right                         5          5   \n",
       "3    Manchester United          Right                         4          3   \n",
       "4      Manchester City          Right                         4          5   \n",
       "\n",
       "   Skill Moves       Work Rate Position  Jersey Number    Height  Weight  \n",
       "0            4  Medium/ Medium       RF             10  5.583333     159  \n",
       "1            5       High/ Low       ST              7  6.166667     183  \n",
       "2            5    High/ Medium       LW             10  5.750000     150  \n",
       "3            1  Medium/ Medium       GK              1  6.333333     168  \n",
       "4            4      High/ High      RCM              7  5.083333     154  "
      ]
     },
     "execution_count": 180,
     "metadata": {},
     "output_type": "execute_result"
    }
   ],
   "source": [
    "df.head()"
   ]
  },
  {
   "cell_type": "code",
   "execution_count": 181,
   "id": "50866ff1",
   "metadata": {},
   "outputs": [
    {
     "data": {
      "text/plain": [
       "3    818\n",
       "4    540\n",
       "2    392\n",
       "1    192\n",
       "5     39\n",
       "Name: Skill Moves, dtype: int64"
      ]
     },
     "execution_count": 181,
     "metadata": {},
     "output_type": "execute_result"
    }
   ],
   "source": [
    "df['Skill Moves'].value_counts()"
   ]
  },
  {
   "cell_type": "code",
   "execution_count": 182,
   "id": "7f122131",
   "metadata": {},
   "outputs": [
    {
     "data": {
      "text/plain": [
       "75    421\n",
       "76    371\n",
       "77    300\n",
       "79    169\n",
       "78    167\n",
       "80    141\n",
       "82     94\n",
       "81     93\n",
       "83     70\n",
       "84     45\n",
       "85     33\n",
       "86     22\n",
       "88     17\n",
       "87     13\n",
       "89     11\n",
       "91      6\n",
       "90      5\n",
       "94      2\n",
       "92      1\n",
       "Name: Overall_rating, dtype: int64"
      ]
     },
     "execution_count": 182,
     "metadata": {},
     "output_type": "execute_result"
    }
   ],
   "source": [
    "df['Overall_rating'].value_counts()"
   ]
  },
  {
   "cell_type": "code",
   "execution_count": 183,
   "id": "226f9fb1",
   "metadata": {},
   "outputs": [
    {
     "data": {
      "image/png": "[encoded data removed]",
      "text/plain": [
       "<Figure size 432x288 with 1 Axes>"
      ]
     },
     "metadata": {
      "needs_background": "light"
     },
     "output_type": "display_data"
    }
   ],
   "source": [
    "sns.scatterplot(df['Skill Moves'],df['Overall_rating']);"
   ]
  },
  {
   "cell_type": "code",
   "execution_count": 184,
   "id": "e2eafdd8",
   "metadata": {},
   "outputs": [
    {
     "data": {
      "text/plain": [
       "KruskalResult(statistic=3016.303836680302, pvalue=0.0)"
      ]
     },
     "execution_count": 184,
     "metadata": {},
     "output_type": "execute_result"
    }
   ],
   "source": [
    "from scipy.stats import kruskal\n",
    "kruskal(df['Skill Moves'],df['Overall_rating'])"
   ]
  },
  {
   "cell_type": "code",
   "execution_count": 185,
   "id": "5b02843b",
   "metadata": {},
   "outputs": [
    {
     "data": {
      "text/plain": [
       "True"
      ]
     },
     "execution_count": 185,
     "metadata": {},
     "output_type": "execute_result"
    }
   ],
   "source": [
    "pvalue < 0.05"
   ]
  },
  {
   "cell_type": "code",
   "execution_count": null,
   "id": "d3c950c1",
   "metadata": {},
   "outputs": [],
   "source": []
  },
  {
   "cell_type": "raw",
   "id": "7f8becaf",
   "metadata": {},
   "source": [
    "Hence we infer that skill moves does not have an effect on the overall rating. The same could be inferred from the above scatterplt too"
   ]
  },
  {
   "cell_type": "markdown",
   "id": "2b8974c8",
   "metadata": {},
   "source": [
    "### Perform the following statistical analysis on the mobile network dataset given. The given data set contains information about the internet, calls, messages of various network. Data Cleaning and basic EDA process needs to be performed. \n",
    "\n"
   ]
  },
  {
   "cell_type": "code",
   "execution_count": 141,
   "id": "2221ddca",
   "metadata": {},
   "outputs": [
    {
     "data": {
      "text/html": [
       "<div>\n",
       "<style scoped>\n",
       "    .dataframe tbody tr th:only-of-type {\n",
       "        vertical-align: middle;\n",
       "    }\n",
       "\n",
       "    .dataframe tbody tr th {\n",
       "        vertical-align: top;\n",
       "    }\n",
       "\n",
       "    .dataframe thead th {\n",
       "        text-align: right;\n",
       "    }\n",
       "</style>\n",
       "<table border=\"1\" class=\"dataframe\">\n",
       "  <thead>\n",
       "    <tr style=\"text-align: right;\">\n",
       "      <th></th>\n",
       "      <th>date</th>\n",
       "      <th>duration</th>\n",
       "      <th>item</th>\n",
       "      <th>month</th>\n",
       "      <th>network</th>\n",
       "      <th>network_type</th>\n",
       "    </tr>\n",
       "  </thead>\n",
       "  <tbody>\n",
       "    <tr>\n",
       "      <th>0</th>\n",
       "      <td>15-10-14 6:58</td>\n",
       "      <td>221.321120</td>\n",
       "      <td>data</td>\n",
       "      <td>2014-11</td>\n",
       "      <td>data</td>\n",
       "      <td>data</td>\n",
       "    </tr>\n",
       "    <tr>\n",
       "      <th>1</th>\n",
       "      <td>15-10-14 6:58</td>\n",
       "      <td>81.610599</td>\n",
       "      <td>call</td>\n",
       "      <td>2014-11</td>\n",
       "      <td>Vodafone</td>\n",
       "      <td>mobile</td>\n",
       "    </tr>\n",
       "    <tr>\n",
       "      <th>2</th>\n",
       "      <td>15-10-14 14:46</td>\n",
       "      <td>143.109111</td>\n",
       "      <td>call</td>\n",
       "      <td>2014-11</td>\n",
       "      <td>Meteor</td>\n",
       "      <td>mobile</td>\n",
       "    </tr>\n",
       "    <tr>\n",
       "      <th>3</th>\n",
       "      <td>15-10-14 14:48</td>\n",
       "      <td>111.888670</td>\n",
       "      <td>call</td>\n",
       "      <td>2014-11</td>\n",
       "      <td>Tesco</td>\n",
       "      <td>mobile</td>\n",
       "    </tr>\n",
       "    <tr>\n",
       "      <th>4</th>\n",
       "      <td>15-10-14 17:27</td>\n",
       "      <td>246.695171</td>\n",
       "      <td>call</td>\n",
       "      <td>2014-11</td>\n",
       "      <td>Tesco</td>\n",
       "      <td>mobile</td>\n",
       "    </tr>\n",
       "    <tr>\n",
       "      <th>5</th>\n",
       "      <td>15-10-14 18:55</td>\n",
       "      <td>132.541300</td>\n",
       "      <td>call</td>\n",
       "      <td>2014-11</td>\n",
       "      <td>Tesco</td>\n",
       "      <td>mobile</td>\n",
       "    </tr>\n",
       "    <tr>\n",
       "      <th>6</th>\n",
       "      <td>16-10-14 6:58</td>\n",
       "      <td>166.883586</td>\n",
       "      <td>data</td>\n",
       "      <td>2014-11</td>\n",
       "      <td>data</td>\n",
       "      <td>data</td>\n",
       "    </tr>\n",
       "    <tr>\n",
       "      <th>7</th>\n",
       "      <td>16-10-14 15:01</td>\n",
       "      <td>184.997883</td>\n",
       "      <td>call</td>\n",
       "      <td>2014-11</td>\n",
       "      <td>Three</td>\n",
       "      <td>mobile</td>\n",
       "    </tr>\n",
       "    <tr>\n",
       "      <th>8</th>\n",
       "      <td>16-10-14 15:12</td>\n",
       "      <td>122.028417</td>\n",
       "      <td>call</td>\n",
       "      <td>2014-11</td>\n",
       "      <td>Three</td>\n",
       "      <td>mobile</td>\n",
       "    </tr>\n",
       "    <tr>\n",
       "      <th>9</th>\n",
       "      <td>16-10-14 15:30</td>\n",
       "      <td>106.321027</td>\n",
       "      <td>call</td>\n",
       "      <td>2014-11</td>\n",
       "      <td>voicemail</td>\n",
       "      <td>voicemail</td>\n",
       "    </tr>\n",
       "    <tr>\n",
       "      <th>10</th>\n",
       "      <td>16-10-14 16:21</td>\n",
       "      <td>15.927469</td>\n",
       "      <td>call</td>\n",
       "      <td>2014-11</td>\n",
       "      <td>Three</td>\n",
       "      <td>mobile</td>\n",
       "    </tr>\n",
       "    <tr>\n",
       "      <th>11</th>\n",
       "      <td>16-10-14 22:18</td>\n",
       "      <td>163.051036</td>\n",
       "      <td>sms</td>\n",
       "      <td>2014-11</td>\n",
       "      <td>Meteor</td>\n",
       "      <td>mobile</td>\n",
       "    </tr>\n",
       "    <tr>\n",
       "      <th>12</th>\n",
       "      <td>16-10-14 22:21</td>\n",
       "      <td>156.586308</td>\n",
       "      <td>sms</td>\n",
       "      <td>2014-11</td>\n",
       "      <td>Meteor</td>\n",
       "      <td>mobile</td>\n",
       "    </tr>\n",
       "    <tr>\n",
       "      <th>13</th>\n",
       "      <td>17-10-14 6:58</td>\n",
       "      <td>187.899227</td>\n",
       "      <td>data</td>\n",
       "      <td>2014-11</td>\n",
       "      <td>data</td>\n",
       "      <td>data</td>\n",
       "    </tr>\n",
       "    <tr>\n",
       "      <th>14</th>\n",
       "      <td>17-10-14 10:53</td>\n",
       "      <td>120.048825</td>\n",
       "      <td>sms</td>\n",
       "      <td>2014-11</td>\n",
       "      <td>Tesco</td>\n",
       "      <td>mobile</td>\n",
       "    </tr>\n",
       "    <tr>\n",
       "      <th>15</th>\n",
       "      <td>17-10-14 11:19</td>\n",
       "      <td>103.066760</td>\n",
       "      <td>sms</td>\n",
       "      <td>2014-11</td>\n",
       "      <td>Tesco</td>\n",
       "      <td>mobile</td>\n",
       "    </tr>\n",
       "    <tr>\n",
       "      <th>16</th>\n",
       "      <td>17-10-14 11:20</td>\n",
       "      <td>189.916639</td>\n",
       "      <td>sms</td>\n",
       "      <td>2014-11</td>\n",
       "      <td>Meteor</td>\n",
       "      <td>mobile</td>\n",
       "    </tr>\n",
       "    <tr>\n",
       "      <th>17</th>\n",
       "      <td>17-10-14 17:22</td>\n",
       "      <td>159.404593</td>\n",
       "      <td>sms</td>\n",
       "      <td>2014-11</td>\n",
       "      <td>Vodafone</td>\n",
       "      <td>mobile</td>\n",
       "    </tr>\n",
       "    <tr>\n",
       "      <th>18</th>\n",
       "      <td>17-10-14 17:23</td>\n",
       "      <td>102.724796</td>\n",
       "      <td>sms</td>\n",
       "      <td>2014-11</td>\n",
       "      <td>Vodafone</td>\n",
       "      <td>mobile</td>\n",
       "    </tr>\n",
       "    <tr>\n",
       "      <th>19</th>\n",
       "      <td>17-10-14 17:26</td>\n",
       "      <td>133.419236</td>\n",
       "      <td>call</td>\n",
       "      <td>2014-11</td>\n",
       "      <td>Three</td>\n",
       "      <td>mobile</td>\n",
       "    </tr>\n",
       "    <tr>\n",
       "      <th>20</th>\n",
       "      <td>17-10-14 17:29</td>\n",
       "      <td>203.338885</td>\n",
       "      <td>call</td>\n",
       "      <td>2014-11</td>\n",
       "      <td>Vodafone</td>\n",
       "      <td>mobile</td>\n",
       "    </tr>\n",
       "    <tr>\n",
       "      <th>21</th>\n",
       "      <td>17-10-14 17:30</td>\n",
       "      <td>205.144199</td>\n",
       "      <td>call</td>\n",
       "      <td>2014-11</td>\n",
       "      <td>Tesco</td>\n",
       "      <td>mobile</td>\n",
       "    </tr>\n",
       "    <tr>\n",
       "      <th>22</th>\n",
       "      <td>17-10-14 17:42</td>\n",
       "      <td>186.748640</td>\n",
       "      <td>sms</td>\n",
       "      <td>2014-11</td>\n",
       "      <td>Vodafone</td>\n",
       "      <td>mobile</td>\n",
       "    </tr>\n",
       "    <tr>\n",
       "      <th>23</th>\n",
       "      <td>17-10-14 17:44</td>\n",
       "      <td>148.879779</td>\n",
       "      <td>sms</td>\n",
       "      <td>2014-11</td>\n",
       "      <td>Vodafone</td>\n",
       "      <td>mobile</td>\n",
       "    </tr>\n",
       "    <tr>\n",
       "      <th>24</th>\n",
       "      <td>17-10-14 17:44</td>\n",
       "      <td>190.043226</td>\n",
       "      <td>sms</td>\n",
       "      <td>2014-11</td>\n",
       "      <td>Vodafone</td>\n",
       "      <td>mobile</td>\n",
       "    </tr>\n",
       "    <tr>\n",
       "      <th>25</th>\n",
       "      <td>17-10-14 17:44</td>\n",
       "      <td>137.908882</td>\n",
       "      <td>sms</td>\n",
       "      <td>2014-11</td>\n",
       "      <td>Vodafone</td>\n",
       "      <td>mobile</td>\n",
       "    </tr>\n",
       "    <tr>\n",
       "      <th>26</th>\n",
       "      <td>18-10-14 6:58</td>\n",
       "      <td>90.976378</td>\n",
       "      <td>data</td>\n",
       "      <td>2014-11</td>\n",
       "      <td>data</td>\n",
       "      <td>data</td>\n",
       "    </tr>\n",
       "    <tr>\n",
       "      <th>27</th>\n",
       "      <td>18-10-14 11:51</td>\n",
       "      <td>112.413016</td>\n",
       "      <td>call</td>\n",
       "      <td>2014-11</td>\n",
       "      <td>Tesco</td>\n",
       "      <td>mobile</td>\n",
       "    </tr>\n",
       "    <tr>\n",
       "      <th>28</th>\n",
       "      <td>18-10-14 12:06</td>\n",
       "      <td>165.581930</td>\n",
       "      <td>call</td>\n",
       "      <td>2014-11</td>\n",
       "      <td>Vodafone</td>\n",
       "      <td>mobile</td>\n",
       "    </tr>\n",
       "    <tr>\n",
       "      <th>29</th>\n",
       "      <td>18-10-14 12:06</td>\n",
       "      <td>197.210544</td>\n",
       "      <td>call</td>\n",
       "      <td>2014-11</td>\n",
       "      <td>Vodafone</td>\n",
       "      <td>mobile</td>\n",
       "    </tr>\n",
       "  </tbody>\n",
       "</table>\n",
       "</div>"
      ],
      "text/plain": [
       "              date    duration  item    month    network network_type\n",
       "0    15-10-14 6:58  221.321120  data  2014-11       data         data\n",
       "1    15-10-14 6:58   81.610599  call  2014-11   Vodafone       mobile\n",
       "2   15-10-14 14:46  143.109111  call  2014-11     Meteor       mobile\n",
       "3   15-10-14 14:48  111.888670  call  2014-11      Tesco       mobile\n",
       "4   15-10-14 17:27  246.695171  call  2014-11      Tesco       mobile\n",
       "5   15-10-14 18:55  132.541300  call  2014-11      Tesco       mobile\n",
       "6    16-10-14 6:58  166.883586  data  2014-11       data         data\n",
       "7   16-10-14 15:01  184.997883  call  2014-11      Three       mobile\n",
       "8   16-10-14 15:12  122.028417  call  2014-11      Three       mobile\n",
       "9   16-10-14 15:30  106.321027  call  2014-11  voicemail    voicemail\n",
       "10  16-10-14 16:21   15.927469  call  2014-11      Three       mobile\n",
       "11  16-10-14 22:18  163.051036   sms  2014-11     Meteor       mobile\n",
       "12  16-10-14 22:21  156.586308   sms  2014-11     Meteor       mobile\n",
       "13   17-10-14 6:58  187.899227  data  2014-11       data         data\n",
       "14  17-10-14 10:53  120.048825   sms  2014-11      Tesco       mobile\n",
       "15  17-10-14 11:19  103.066760   sms  2014-11      Tesco       mobile\n",
       "16  17-10-14 11:20  189.916639   sms  2014-11     Meteor       mobile\n",
       "17  17-10-14 17:22  159.404593   sms  2014-11   Vodafone       mobile\n",
       "18  17-10-14 17:23  102.724796   sms  2014-11   Vodafone       mobile\n",
       "19  17-10-14 17:26  133.419236  call  2014-11      Three       mobile\n",
       "20  17-10-14 17:29  203.338885  call  2014-11   Vodafone       mobile\n",
       "21  17-10-14 17:30  205.144199  call  2014-11      Tesco       mobile\n",
       "22  17-10-14 17:42  186.748640   sms  2014-11   Vodafone       mobile\n",
       "23  17-10-14 17:44  148.879779   sms  2014-11   Vodafone       mobile\n",
       "24  17-10-14 17:44  190.043226   sms  2014-11   Vodafone       mobile\n",
       "25  17-10-14 17:44  137.908882   sms  2014-11   Vodafone       mobile\n",
       "26   18-10-14 6:58   90.976378  data  2014-11       data         data\n",
       "27  18-10-14 11:51  112.413016  call  2014-11      Tesco       mobile\n",
       "28  18-10-14 12:06  165.581930  call  2014-11   Vodafone       mobile\n",
       "29  18-10-14 12:06  197.210544  call  2014-11   Vodafone       mobile"
      ]
     },
     "execution_count": 141,
     "metadata": {},
     "output_type": "execute_result"
    }
   ],
   "source": [
    "dfmobnetwork = pd.read_csv(\"phone.csv\")\n",
    "dfmobnetwork.head(30)"
   ]
  },
  {
   "cell_type": "code",
   "execution_count": 142,
   "id": "489cc5b6",
   "metadata": {},
   "outputs": [
    {
     "data": {
      "text/plain": [
       "(820, 6)"
      ]
     },
     "execution_count": 142,
     "metadata": {},
     "output_type": "execute_result"
    }
   ],
   "source": [
    "dfmobnetwork.shape"
   ]
  },
  {
   "cell_type": "code",
   "execution_count": 143,
   "id": "89df26a0",
   "metadata": {},
   "outputs": [
    {
     "data": {
      "text/html": [
       "<div>\n",
       "<style scoped>\n",
       "    .dataframe tbody tr th:only-of-type {\n",
       "        vertical-align: middle;\n",
       "    }\n",
       "\n",
       "    .dataframe tbody tr th {\n",
       "        vertical-align: top;\n",
       "    }\n",
       "\n",
       "    .dataframe thead th {\n",
       "        text-align: right;\n",
       "    }\n",
       "</style>\n",
       "<table border=\"1\" class=\"dataframe\">\n",
       "  <thead>\n",
       "    <tr style=\"text-align: right;\">\n",
       "      <th></th>\n",
       "      <th>duration</th>\n",
       "    </tr>\n",
       "  </thead>\n",
       "  <tbody>\n",
       "    <tr>\n",
       "      <th>count</th>\n",
       "      <td>820.000000</td>\n",
       "    </tr>\n",
       "    <tr>\n",
       "      <th>mean</th>\n",
       "      <td>144.304936</td>\n",
       "    </tr>\n",
       "    <tr>\n",
       "      <th>std</th>\n",
       "      <td>45.687777</td>\n",
       "    </tr>\n",
       "    <tr>\n",
       "      <th>min</th>\n",
       "      <td>0.993514</td>\n",
       "    </tr>\n",
       "    <tr>\n",
       "      <th>25%</th>\n",
       "      <td>112.916486</td>\n",
       "    </tr>\n",
       "    <tr>\n",
       "      <th>50%</th>\n",
       "      <td>144.179434</td>\n",
       "    </tr>\n",
       "    <tr>\n",
       "      <th>75%</th>\n",
       "      <td>175.932308</td>\n",
       "    </tr>\n",
       "    <tr>\n",
       "      <th>max</th>\n",
       "      <td>268.458090</td>\n",
       "    </tr>\n",
       "  </tbody>\n",
       "</table>\n",
       "</div>"
      ],
      "text/plain": [
       "         duration\n",
       "count  820.000000\n",
       "mean   144.304936\n",
       "std     45.687777\n",
       "min      0.993514\n",
       "25%    112.916486\n",
       "50%    144.179434\n",
       "75%    175.932308\n",
       "max    268.458090"
      ]
     },
     "execution_count": 143,
     "metadata": {},
     "output_type": "execute_result"
    }
   ],
   "source": [
    "dfmobnetwork.describe()"
   ]
  },
  {
   "cell_type": "code",
   "execution_count": 147,
   "id": "ead56e26",
   "metadata": {},
   "outputs": [
    {
     "data": {
      "text/plain": [
       "date             object\n",
       "duration        float64\n",
       "item             object\n",
       "month            object\n",
       "network          object\n",
       "network_type     object\n",
       "dtype: object"
      ]
     },
     "execution_count": 147,
     "metadata": {},
     "output_type": "execute_result"
    }
   ],
   "source": [
    "dfmobnetwork.dtypes"
   ]
  },
  {
   "cell_type": "code",
   "execution_count": 150,
   "id": "ed1be970",
   "metadata": {},
   "outputs": [
    {
     "data": {
      "text/html": [
       "<div>\n",
       "<style scoped>\n",
       "    .dataframe tbody tr th:only-of-type {\n",
       "        vertical-align: middle;\n",
       "    }\n",
       "\n",
       "    .dataframe tbody tr th {\n",
       "        vertical-align: top;\n",
       "    }\n",
       "\n",
       "    .dataframe thead th {\n",
       "        text-align: right;\n",
       "    }\n",
       "</style>\n",
       "<table border=\"1\" class=\"dataframe\">\n",
       "  <thead>\n",
       "    <tr style=\"text-align: right;\">\n",
       "      <th></th>\n",
       "      <th>duration</th>\n",
       "      <th>item</th>\n",
       "      <th>month</th>\n",
       "      <th>network</th>\n",
       "      <th>network_type</th>\n",
       "      <th>Date</th>\n",
       "      <th>Time</th>\n",
       "    </tr>\n",
       "  </thead>\n",
       "  <tbody>\n",
       "    <tr>\n",
       "      <th>0</th>\n",
       "      <td>221.321120</td>\n",
       "      <td>data</td>\n",
       "      <td>2014-11</td>\n",
       "      <td>data</td>\n",
       "      <td>data</td>\n",
       "      <td>15-10-14</td>\n",
       "      <td>6:58</td>\n",
       "    </tr>\n",
       "    <tr>\n",
       "      <th>1</th>\n",
       "      <td>81.610599</td>\n",
       "      <td>call</td>\n",
       "      <td>2014-11</td>\n",
       "      <td>Vodafone</td>\n",
       "      <td>mobile</td>\n",
       "      <td>15-10-14</td>\n",
       "      <td>6:58</td>\n",
       "    </tr>\n",
       "    <tr>\n",
       "      <th>2</th>\n",
       "      <td>143.109111</td>\n",
       "      <td>call</td>\n",
       "      <td>2014-11</td>\n",
       "      <td>Meteor</td>\n",
       "      <td>mobile</td>\n",
       "      <td>15-10-14</td>\n",
       "      <td>14:46</td>\n",
       "    </tr>\n",
       "    <tr>\n",
       "      <th>3</th>\n",
       "      <td>111.888670</td>\n",
       "      <td>call</td>\n",
       "      <td>2014-11</td>\n",
       "      <td>Tesco</td>\n",
       "      <td>mobile</td>\n",
       "      <td>15-10-14</td>\n",
       "      <td>14:48</td>\n",
       "    </tr>\n",
       "    <tr>\n",
       "      <th>4</th>\n",
       "      <td>246.695171</td>\n",
       "      <td>call</td>\n",
       "      <td>2014-11</td>\n",
       "      <td>Tesco</td>\n",
       "      <td>mobile</td>\n",
       "      <td>15-10-14</td>\n",
       "      <td>17:27</td>\n",
       "    </tr>\n",
       "  </tbody>\n",
       "</table>\n",
       "</div>"
      ],
      "text/plain": [
       "     duration  item    month   network network_type      Date   Time\n",
       "0  221.321120  data  2014-11      data         data  15-10-14   6:58\n",
       "1   81.610599  call  2014-11  Vodafone       mobile  15-10-14   6:58\n",
       "2  143.109111  call  2014-11    Meteor       mobile  15-10-14  14:46\n",
       "3  111.888670  call  2014-11     Tesco       mobile  15-10-14  14:48\n",
       "4  246.695171  call  2014-11     Tesco       mobile  15-10-14  17:27"
      ]
     },
     "execution_count": 150,
     "metadata": {},
     "output_type": "execute_result"
    }
   ],
   "source": [
    "dfmobnetwork['Date'] = dfmobnetwork['date'].apply(lambda x : x.split(\" \")[0])\n",
    "dfmobnetwork['Time'] = dfmobnetwork['date'].apply(lambda x : x.split(\" \")[1])\n",
    "dfmobnetwork.drop('date',axis= 1,inplace= True)\n",
    "dfmobnetwork.head()"
   ]
  },
  {
   "cell_type": "code",
   "execution_count": 152,
   "id": "b2c46c30",
   "metadata": {},
   "outputs": [
    {
     "data": {
      "text/html": [
       "<div>\n",
       "<style scoped>\n",
       "    .dataframe tbody tr th:only-of-type {\n",
       "        vertical-align: middle;\n",
       "    }\n",
       "\n",
       "    .dataframe tbody tr th {\n",
       "        vertical-align: top;\n",
       "    }\n",
       "\n",
       "    .dataframe thead th {\n",
       "        text-align: right;\n",
       "    }\n",
       "</style>\n",
       "<table border=\"1\" class=\"dataframe\">\n",
       "  <thead>\n",
       "    <tr style=\"text-align: right;\">\n",
       "      <th></th>\n",
       "      <th>duration</th>\n",
       "      <th>item</th>\n",
       "      <th>network</th>\n",
       "      <th>network_type</th>\n",
       "      <th>Date</th>\n",
       "      <th>Time</th>\n",
       "      <th>Year</th>\n",
       "      <th>Month</th>\n",
       "    </tr>\n",
       "  </thead>\n",
       "  <tbody>\n",
       "    <tr>\n",
       "      <th>0</th>\n",
       "      <td>221.321120</td>\n",
       "      <td>data</td>\n",
       "      <td>data</td>\n",
       "      <td>data</td>\n",
       "      <td>15-10-14</td>\n",
       "      <td>6:58</td>\n",
       "      <td>2014</td>\n",
       "      <td>11</td>\n",
       "    </tr>\n",
       "    <tr>\n",
       "      <th>1</th>\n",
       "      <td>81.610599</td>\n",
       "      <td>call</td>\n",
       "      <td>Vodafone</td>\n",
       "      <td>mobile</td>\n",
       "      <td>15-10-14</td>\n",
       "      <td>6:58</td>\n",
       "      <td>2014</td>\n",
       "      <td>11</td>\n",
       "    </tr>\n",
       "    <tr>\n",
       "      <th>2</th>\n",
       "      <td>143.109111</td>\n",
       "      <td>call</td>\n",
       "      <td>Meteor</td>\n",
       "      <td>mobile</td>\n",
       "      <td>15-10-14</td>\n",
       "      <td>14:46</td>\n",
       "      <td>2014</td>\n",
       "      <td>11</td>\n",
       "    </tr>\n",
       "    <tr>\n",
       "      <th>3</th>\n",
       "      <td>111.888670</td>\n",
       "      <td>call</td>\n",
       "      <td>Tesco</td>\n",
       "      <td>mobile</td>\n",
       "      <td>15-10-14</td>\n",
       "      <td>14:48</td>\n",
       "      <td>2014</td>\n",
       "      <td>11</td>\n",
       "    </tr>\n",
       "    <tr>\n",
       "      <th>4</th>\n",
       "      <td>246.695171</td>\n",
       "      <td>call</td>\n",
       "      <td>Tesco</td>\n",
       "      <td>mobile</td>\n",
       "      <td>15-10-14</td>\n",
       "      <td>17:27</td>\n",
       "      <td>2014</td>\n",
       "      <td>11</td>\n",
       "    </tr>\n",
       "  </tbody>\n",
       "</table>\n",
       "</div>"
      ],
      "text/plain": [
       "     duration  item   network network_type      Date   Time  Year Month\n",
       "0  221.321120  data      data         data  15-10-14   6:58  2014    11\n",
       "1   81.610599  call  Vodafone       mobile  15-10-14   6:58  2014    11\n",
       "2  143.109111  call    Meteor       mobile  15-10-14  14:46  2014    11\n",
       "3  111.888670  call     Tesco       mobile  15-10-14  14:48  2014    11\n",
       "4  246.695171  call     Tesco       mobile  15-10-14  17:27  2014    11"
      ]
     },
     "execution_count": 152,
     "metadata": {},
     "output_type": "execute_result"
    }
   ],
   "source": [
    "dfmobnetwork['Year'] = dfmobnetwork['month'].apply(lambda x : x.split(\"-\")[0])\n",
    "dfmobnetwork['Month'] = dfmobnetwork['month'].apply(lambda x : x.split(\"-\")[1])\n",
    "dfmobnetwork.drop('month',axis = 1, inplace= True)\n",
    "dfmobnetwork.head()"
   ]
  },
  {
   "cell_type": "code",
   "execution_count": 191,
   "id": "27b48254",
   "metadata": {},
   "outputs": [
    {
     "data": {
      "text/plain": [
       "duration        0\n",
       "item            0\n",
       "network         0\n",
       "network_type    0\n",
       "Date            0\n",
       "Time            0\n",
       "Year            0\n",
       "Month           0\n",
       "dtype: int64"
      ]
     },
     "execution_count": 191,
     "metadata": {},
     "output_type": "execute_result"
    }
   ],
   "source": [
    "#checking the missing values\n",
    "dfmobnetwork.isnull().sum()"
   ]
  },
  {
   "cell_type": "code",
   "execution_count": 192,
   "id": "2de80670",
   "metadata": {},
   "outputs": [
    {
     "data": {
      "image/png": "[encoded data removed]",
      "text/plain": [
       "<Figure size 432x288 with 1 Axes>"
      ]
     },
     "metadata": {
      "needs_background": "light"
     },
     "output_type": "display_data"
    }
   ],
   "source": [
    "dfmobnetwork.network.value_counts(normalize= True).plot.bar()\n",
    "plt.show()"
   ]
  },
  {
   "cell_type": "code",
   "execution_count": 193,
   "id": "96339b2b",
   "metadata": {},
   "outputs": [
    {
     "data": {
      "text/plain": [
       "<AxesSubplot:>"
      ]
     },
     "execution_count": 193,
     "metadata": {},
     "output_type": "execute_result"
    },
    {
     "data": {
      "image/png": "[encoded data removed]",
      "text/plain": [
       "<Figure size 432x288 with 1 Axes>"
      ]
     },
     "metadata": {
      "needs_background": "light"
     },
     "output_type": "display_data"
    }
   ],
   "source": [
    "dfmobnetwork.network_type.value_counts(normalize= True).plot.barh()"
   ]
  },
  {
   "cell_type": "markdown",
   "id": "e4aa5079",
   "metadata": {},
   "source": [
    "#### a ) With 95% & 99% Confidence Interval find the range estimate of average duration calls made by all the network. Which of the Intervals are wider? Interpret the results."
   ]
  },
  {
   "cell_type": "code",
   "execution_count": 194,
   "id": "764115c6",
   "metadata": {},
   "outputs": [
    {
     "data": {
      "text/plain": [
       "ShapiroResult(statistic=0.9984679818153381, pvalue=0.701244592666626)"
      ]
     },
     "execution_count": 194,
     "metadata": {},
     "output_type": "execute_result"
    }
   ],
   "source": [
    "st.shapiro(dfmobnetwork['duration'])"
   ]
  },
  {
   "cell_type": "raw",
   "id": "feb75ef7",
   "metadata": {},
   "source": [
    "Duration data is normally distributed as the pvalue is greater than 0.05"
   ]
  },
  {
   "cell_type": "code",
   "execution_count": 198,
   "id": "c3c54884",
   "metadata": {},
   "outputs": [
    {
     "name": "stdout",
     "output_type": "stream",
     "text": [
      " Confidence Interval at 95% level of significance : (54.81315656633359, 233.79671455333732)\n",
      " Confidence Interval at 99% level of significance : (26.692801573465673, 261.91706954620525)\n"
     ]
    }
   ],
   "source": [
    "mu = np.mean(dfmobnetwork['duration'])\n",
    "sigma = np.std(dfmobnetwork['duration'])\n",
    "print(\" Confidence Interval at 95% level of significance :\",st.norm.interval(0.95,mu,sigma))\n",
    "print(\" Confidence Interval at 99% level of significance :\",st.norm.interval(0.99,mu,sigma))"
   ]
  },
  {
   "cell_type": "raw",
   "id": "3898d2af",
   "metadata": {},
   "source": [
    "The interval is wider when the level of significance is 99%"
   ]
  },
  {
   "cell_type": "markdown",
   "id": "6a1db7bd",
   "metadata": {},
   "source": [
    "#### b) Perform statistical analysis to check whether the networks are equally distributed in the dataset."
   ]
  },
  {
   "cell_type": "code",
   "execution_count": 208,
   "id": "99cf5560",
   "metadata": {},
   "outputs": [
    {
     "data": {
      "text/plain": [
       "Vodafone     215\n",
       "Three        215\n",
       "data         150\n",
       "Meteor        87\n",
       "Tesco         84\n",
       "landline      42\n",
       "voicemail     27\n",
       "Name: network, dtype: int64"
      ]
     },
     "execution_count": 208,
     "metadata": {},
     "output_type": "execute_result"
    }
   ],
   "source": [
    "dfmobnetwork['network'].value_counts()"
   ]
  },
  {
   "cell_type": "raw",
   "id": "842f3fc0",
   "metadata": {},
   "source": [
    "H0 : There is no significant difference between observed and expected frequencies(Networks are equally distributed)\n",
    "Ha : There is a significant difference between observed and expected frequencies(networks are not equally distributed)"
   ]
  },
  {
   "cell_type": "code",
   "execution_count": 200,
   "id": "6158dd27",
   "metadata": {},
   "outputs": [
    {
     "data": {
      "text/plain": [
       "14.285714285714286"
      ]
     },
     "execution_count": 200,
     "metadata": {},
     "output_type": "execute_result"
    }
   ],
   "source": [
    "100/7"
   ]
  },
  {
   "cell_type": "code",
   "execution_count": 209,
   "id": "4640e8d8",
   "metadata": {},
   "outputs": [
    {
     "data": {
      "text/plain": [
       "2.4573340336366267e-63"
      ]
     },
     "execution_count": 209,
     "metadata": {},
     "output_type": "execute_result"
    }
   ],
   "source": [
    "observed_values = scipy.array([215,215,150,87,84,42,27])\n",
    "n = observed_values.sum()\n",
    "expected_values = scipy.array([n*0.143,n*0.143,n*0.143,n*0.143,n*0.143,n*0.143,n*0.143])\n",
    "\n",
    "chi_square_stat,pvalue = st.chisquare(observed_values,f_exp = expected_values)\n",
    "\n",
    "pvalue"
   ]
  },
  {
   "cell_type": "code",
   "execution_count": 210,
   "id": "ff210375",
   "metadata": {},
   "outputs": [
    {
     "data": {
      "text/plain": [
       "True"
      ]
     },
     "execution_count": 210,
     "metadata": {},
     "output_type": "execute_result"
    }
   ],
   "source": [
    "pvalue < 0.05"
   ]
  },
  {
   "cell_type": "raw",
   "id": "968d60ee",
   "metadata": {},
   "source": [
    "Hence we reject the null hypothesis and conclude that the networks are not equally distributed"
   ]
  },
  {
   "cell_type": "markdown",
   "id": "0130f8c8",
   "metadata": {},
   "source": [
    "#### c) Plot the distribution of duration with respect to each network in the same graph and Interpret the results from the graph."
   ]
  },
  {
   "cell_type": "code",
   "execution_count": 212,
   "id": "3f9c84b1",
   "metadata": {},
   "outputs": [
    {
     "data": {
      "image/png": "[encoded data removed]",
      "text/plain": [
       "<Figure size 1080x576 with 1 Axes>"
      ]
     },
     "metadata": {
      "needs_background": "light"
     },
     "output_type": "display_data"
    }
   ],
   "source": [
    "plt.figure(figsize= (15,8))\n",
    "sns.kdeplot(x = dfmobnetwork['duration'],hue = dfmobnetwork['network']);"
   ]
  },
  {
   "cell_type": "raw",
   "id": "dea23838",
   "metadata": {},
   "source": [
    "The plot shows the distribution of all the networks in the dataset for various duration "
   ]
  },
  {
   "cell_type": "markdown",
   "id": "fd57703c",
   "metadata": {},
   "source": [
    "#### d)Perform statistical tests to identify the relation between item and duration. Detailed explanation of relation between the classes is required.\n"
   ]
  },
  {
   "cell_type": "code",
   "execution_count": 213,
   "id": "f826c1b5",
   "metadata": {},
   "outputs": [
    {
     "data": {
      "text/html": [
       "<div>\n",
       "<style scoped>\n",
       "    .dataframe tbody tr th:only-of-type {\n",
       "        vertical-align: middle;\n",
       "    }\n",
       "\n",
       "    .dataframe tbody tr th {\n",
       "        vertical-align: top;\n",
       "    }\n",
       "\n",
       "    .dataframe thead th {\n",
       "        text-align: right;\n",
       "    }\n",
       "</style>\n",
       "<table border=\"1\" class=\"dataframe\">\n",
       "  <thead>\n",
       "    <tr style=\"text-align: right;\">\n",
       "      <th></th>\n",
       "      <th>duration</th>\n",
       "      <th>item</th>\n",
       "      <th>network</th>\n",
       "      <th>network_type</th>\n",
       "      <th>Date</th>\n",
       "      <th>Time</th>\n",
       "      <th>Year</th>\n",
       "      <th>Month</th>\n",
       "    </tr>\n",
       "  </thead>\n",
       "  <tbody>\n",
       "    <tr>\n",
       "      <th>0</th>\n",
       "      <td>221.321120</td>\n",
       "      <td>data</td>\n",
       "      <td>data</td>\n",
       "      <td>data</td>\n",
       "      <td>15-10-14</td>\n",
       "      <td>6:58</td>\n",
       "      <td>2014</td>\n",
       "      <td>11</td>\n",
       "    </tr>\n",
       "    <tr>\n",
       "      <th>1</th>\n",
       "      <td>81.610599</td>\n",
       "      <td>call</td>\n",
       "      <td>Vodafone</td>\n",
       "      <td>mobile</td>\n",
       "      <td>15-10-14</td>\n",
       "      <td>6:58</td>\n",
       "      <td>2014</td>\n",
       "      <td>11</td>\n",
       "    </tr>\n",
       "    <tr>\n",
       "      <th>2</th>\n",
       "      <td>143.109111</td>\n",
       "      <td>call</td>\n",
       "      <td>Meteor</td>\n",
       "      <td>mobile</td>\n",
       "      <td>15-10-14</td>\n",
       "      <td>14:46</td>\n",
       "      <td>2014</td>\n",
       "      <td>11</td>\n",
       "    </tr>\n",
       "    <tr>\n",
       "      <th>3</th>\n",
       "      <td>111.888670</td>\n",
       "      <td>call</td>\n",
       "      <td>Tesco</td>\n",
       "      <td>mobile</td>\n",
       "      <td>15-10-14</td>\n",
       "      <td>14:48</td>\n",
       "      <td>2014</td>\n",
       "      <td>11</td>\n",
       "    </tr>\n",
       "    <tr>\n",
       "      <th>4</th>\n",
       "      <td>246.695171</td>\n",
       "      <td>call</td>\n",
       "      <td>Tesco</td>\n",
       "      <td>mobile</td>\n",
       "      <td>15-10-14</td>\n",
       "      <td>17:27</td>\n",
       "      <td>2014</td>\n",
       "      <td>11</td>\n",
       "    </tr>\n",
       "  </tbody>\n",
       "</table>\n",
       "</div>"
      ],
      "text/plain": [
       "     duration  item   network network_type      Date   Time  Year Month\n",
       "0  221.321120  data      data         data  15-10-14   6:58  2014    11\n",
       "1   81.610599  call  Vodafone       mobile  15-10-14   6:58  2014    11\n",
       "2  143.109111  call    Meteor       mobile  15-10-14  14:46  2014    11\n",
       "3  111.888670  call     Tesco       mobile  15-10-14  14:48  2014    11\n",
       "4  246.695171  call     Tesco       mobile  15-10-14  17:27  2014    11"
      ]
     },
     "execution_count": 213,
     "metadata": {},
     "output_type": "execute_result"
    }
   ],
   "source": [
    "dfmobnetwork.head()"
   ]
  },
  {
   "cell_type": "code",
   "execution_count": 224,
   "id": "82ad2893",
   "metadata": {},
   "outputs": [
    {
     "data": {
      "text/html": [
       "<div>\n",
       "<style scoped>\n",
       "    .dataframe tbody tr th:only-of-type {\n",
       "        vertical-align: middle;\n",
       "    }\n",
       "\n",
       "    .dataframe tbody tr th {\n",
       "        vertical-align: top;\n",
       "    }\n",
       "\n",
       "    .dataframe thead th {\n",
       "        text-align: right;\n",
       "    }\n",
       "</style>\n",
       "<table border=\"1\" class=\"dataframe\">\n",
       "  <thead>\n",
       "    <tr style=\"text-align: right;\">\n",
       "      <th></th>\n",
       "      <th>call</th>\n",
       "      <th>data</th>\n",
       "      <th>sms</th>\n",
       "    </tr>\n",
       "  </thead>\n",
       "  <tbody>\n",
       "    <tr>\n",
       "      <th>0</th>\n",
       "      <td>0</td>\n",
       "      <td>1</td>\n",
       "      <td>0</td>\n",
       "    </tr>\n",
       "    <tr>\n",
       "      <th>1</th>\n",
       "      <td>1</td>\n",
       "      <td>0</td>\n",
       "      <td>0</td>\n",
       "    </tr>\n",
       "    <tr>\n",
       "      <th>2</th>\n",
       "      <td>1</td>\n",
       "      <td>0</td>\n",
       "      <td>0</td>\n",
       "    </tr>\n",
       "    <tr>\n",
       "      <th>3</th>\n",
       "      <td>1</td>\n",
       "      <td>0</td>\n",
       "      <td>0</td>\n",
       "    </tr>\n",
       "    <tr>\n",
       "      <th>4</th>\n",
       "      <td>1</td>\n",
       "      <td>0</td>\n",
       "      <td>0</td>\n",
       "    </tr>\n",
       "    <tr>\n",
       "      <th>...</th>\n",
       "      <td>...</td>\n",
       "      <td>...</td>\n",
       "      <td>...</td>\n",
       "    </tr>\n",
       "    <tr>\n",
       "      <th>815</th>\n",
       "      <td>0</td>\n",
       "      <td>1</td>\n",
       "      <td>0</td>\n",
       "    </tr>\n",
       "    <tr>\n",
       "      <th>816</th>\n",
       "      <td>0</td>\n",
       "      <td>1</td>\n",
       "      <td>0</td>\n",
       "    </tr>\n",
       "    <tr>\n",
       "      <th>817</th>\n",
       "      <td>0</td>\n",
       "      <td>1</td>\n",
       "      <td>0</td>\n",
       "    </tr>\n",
       "    <tr>\n",
       "      <th>818</th>\n",
       "      <td>0</td>\n",
       "      <td>0</td>\n",
       "      <td>1</td>\n",
       "    </tr>\n",
       "    <tr>\n",
       "      <th>819</th>\n",
       "      <td>0</td>\n",
       "      <td>1</td>\n",
       "      <td>0</td>\n",
       "    </tr>\n",
       "  </tbody>\n",
       "</table>\n",
       "<p>820 rows × 3 columns</p>\n",
       "</div>"
      ],
      "text/plain": [
       "     call  data  sms\n",
       "0       0     1    0\n",
       "1       1     0    0\n",
       "2       1     0    0\n",
       "3       1     0    0\n",
       "4       1     0    0\n",
       "..    ...   ...  ...\n",
       "815     0     1    0\n",
       "816     0     1    0\n",
       "817     0     1    0\n",
       "818     0     0    1\n",
       "819     0     1    0\n",
       "\n",
       "[820 rows x 3 columns]"
      ]
     },
     "execution_count": 224,
     "metadata": {},
     "output_type": "execute_result"
    }
   ],
   "source": [
    "df_dummies = pd.get_dummies(dfmobnetwork['item'])\n",
    "df_dummies"
   ]
  },
  {
   "cell_type": "code",
   "execution_count": 227,
   "id": "7c9682c6",
   "metadata": {},
   "outputs": [
    {
     "data": {
      "text/html": [
       "<div>\n",
       "<style scoped>\n",
       "    .dataframe tbody tr th:only-of-type {\n",
       "        vertical-align: middle;\n",
       "    }\n",
       "\n",
       "    .dataframe tbody tr th {\n",
       "        vertical-align: top;\n",
       "    }\n",
       "\n",
       "    .dataframe thead th {\n",
       "        text-align: right;\n",
       "    }\n",
       "</style>\n",
       "<table border=\"1\" class=\"dataframe\">\n",
       "  <thead>\n",
       "    <tr style=\"text-align: right;\">\n",
       "      <th></th>\n",
       "      <th>duration</th>\n",
       "      <th>network</th>\n",
       "      <th>network_type</th>\n",
       "      <th>Date</th>\n",
       "      <th>Time</th>\n",
       "      <th>Year</th>\n",
       "      <th>Month</th>\n",
       "      <th>call</th>\n",
       "      <th>data</th>\n",
       "      <th>sms</th>\n",
       "    </tr>\n",
       "  </thead>\n",
       "  <tbody>\n",
       "    <tr>\n",
       "      <th>0</th>\n",
       "      <td>221.321120</td>\n",
       "      <td>data</td>\n",
       "      <td>data</td>\n",
       "      <td>15-10-14</td>\n",
       "      <td>6:58</td>\n",
       "      <td>2014</td>\n",
       "      <td>11</td>\n",
       "      <td>0</td>\n",
       "      <td>1</td>\n",
       "      <td>0</td>\n",
       "    </tr>\n",
       "    <tr>\n",
       "      <th>1</th>\n",
       "      <td>81.610599</td>\n",
       "      <td>Vodafone</td>\n",
       "      <td>mobile</td>\n",
       "      <td>15-10-14</td>\n",
       "      <td>6:58</td>\n",
       "      <td>2014</td>\n",
       "      <td>11</td>\n",
       "      <td>1</td>\n",
       "      <td>0</td>\n",
       "      <td>0</td>\n",
       "    </tr>\n",
       "    <tr>\n",
       "      <th>2</th>\n",
       "      <td>143.109111</td>\n",
       "      <td>Meteor</td>\n",
       "      <td>mobile</td>\n",
       "      <td>15-10-14</td>\n",
       "      <td>14:46</td>\n",
       "      <td>2014</td>\n",
       "      <td>11</td>\n",
       "      <td>1</td>\n",
       "      <td>0</td>\n",
       "      <td>0</td>\n",
       "    </tr>\n",
       "    <tr>\n",
       "      <th>3</th>\n",
       "      <td>111.888670</td>\n",
       "      <td>Tesco</td>\n",
       "      <td>mobile</td>\n",
       "      <td>15-10-14</td>\n",
       "      <td>14:48</td>\n",
       "      <td>2014</td>\n",
       "      <td>11</td>\n",
       "      <td>1</td>\n",
       "      <td>0</td>\n",
       "      <td>0</td>\n",
       "    </tr>\n",
       "    <tr>\n",
       "      <th>4</th>\n",
       "      <td>246.695171</td>\n",
       "      <td>Tesco</td>\n",
       "      <td>mobile</td>\n",
       "      <td>15-10-14</td>\n",
       "      <td>17:27</td>\n",
       "      <td>2014</td>\n",
       "      <td>11</td>\n",
       "      <td>1</td>\n",
       "      <td>0</td>\n",
       "      <td>0</td>\n",
       "    </tr>\n",
       "  </tbody>\n",
       "</table>\n",
       "</div>"
      ],
      "text/plain": [
       "     duration   network network_type      Date   Time  Year Month  call  data  \\\n",
       "0  221.321120      data         data  15-10-14   6:58  2014    11     0     1   \n",
       "1   81.610599  Vodafone       mobile  15-10-14   6:58  2014    11     1     0   \n",
       "2  143.109111    Meteor       mobile  15-10-14  14:46  2014    11     1     0   \n",
       "3  111.888670     Tesco       mobile  15-10-14  14:48  2014    11     1     0   \n",
       "4  246.695171     Tesco       mobile  15-10-14  17:27  2014    11     1     0   \n",
       "\n",
       "   sms  \n",
       "0    0  \n",
       "1    0  \n",
       "2    0  \n",
       "3    0  \n",
       "4    0  "
      ]
     },
     "execution_count": 227,
     "metadata": {},
     "output_type": "execute_result"
    }
   ],
   "source": [
    "df_new = pd.concat([dfmobnetwork,df_dummies],axis = 1)\n",
    "del(df_new['item'])\n",
    "df_new.head()"
   ]
  },
  {
   "cell_type": "code",
   "execution_count": 230,
   "id": "432e049d",
   "metadata": {},
   "outputs": [
    {
     "data": {
      "text/html": [
       "<div>\n",
       "<style scoped>\n",
       "    .dataframe tbody tr th:only-of-type {\n",
       "        vertical-align: middle;\n",
       "    }\n",
       "\n",
       "    .dataframe tbody tr th {\n",
       "        vertical-align: top;\n",
       "    }\n",
       "\n",
       "    .dataframe thead th {\n",
       "        text-align: right;\n",
       "    }\n",
       "</style>\n",
       "<table border=\"1\" class=\"dataframe\">\n",
       "  <thead>\n",
       "    <tr style=\"text-align: right;\">\n",
       "      <th></th>\n",
       "      <th>duration</th>\n",
       "      <th>call</th>\n",
       "      <th>data</th>\n",
       "      <th>sms</th>\n",
       "    </tr>\n",
       "  </thead>\n",
       "  <tbody>\n",
       "    <tr>\n",
       "      <th>0</th>\n",
       "      <td>221.321120</td>\n",
       "      <td>0</td>\n",
       "      <td>1</td>\n",
       "      <td>0</td>\n",
       "    </tr>\n",
       "    <tr>\n",
       "      <th>1</th>\n",
       "      <td>81.610599</td>\n",
       "      <td>1</td>\n",
       "      <td>0</td>\n",
       "      <td>0</td>\n",
       "    </tr>\n",
       "    <tr>\n",
       "      <th>2</th>\n",
       "      <td>143.109111</td>\n",
       "      <td>1</td>\n",
       "      <td>0</td>\n",
       "      <td>0</td>\n",
       "    </tr>\n",
       "    <tr>\n",
       "      <th>3</th>\n",
       "      <td>111.888670</td>\n",
       "      <td>1</td>\n",
       "      <td>0</td>\n",
       "      <td>0</td>\n",
       "    </tr>\n",
       "    <tr>\n",
       "      <th>4</th>\n",
       "      <td>246.695171</td>\n",
       "      <td>1</td>\n",
       "      <td>0</td>\n",
       "      <td>0</td>\n",
       "    </tr>\n",
       "    <tr>\n",
       "      <th>...</th>\n",
       "      <td>...</td>\n",
       "      <td>...</td>\n",
       "      <td>...</td>\n",
       "      <td>...</td>\n",
       "    </tr>\n",
       "    <tr>\n",
       "      <th>815</th>\n",
       "      <td>185.328156</td>\n",
       "      <td>0</td>\n",
       "      <td>1</td>\n",
       "      <td>0</td>\n",
       "    </tr>\n",
       "    <tr>\n",
       "      <th>816</th>\n",
       "      <td>89.819383</td>\n",
       "      <td>0</td>\n",
       "      <td>1</td>\n",
       "      <td>0</td>\n",
       "    </tr>\n",
       "    <tr>\n",
       "      <th>817</th>\n",
       "      <td>117.604998</td>\n",
       "      <td>0</td>\n",
       "      <td>1</td>\n",
       "      <td>0</td>\n",
       "    </tr>\n",
       "    <tr>\n",
       "      <th>818</th>\n",
       "      <td>77.834006</td>\n",
       "      <td>0</td>\n",
       "      <td>0</td>\n",
       "      <td>1</td>\n",
       "    </tr>\n",
       "    <tr>\n",
       "      <th>819</th>\n",
       "      <td>146.000584</td>\n",
       "      <td>0</td>\n",
       "      <td>1</td>\n",
       "      <td>0</td>\n",
       "    </tr>\n",
       "  </tbody>\n",
       "</table>\n",
       "<p>820 rows × 4 columns</p>\n",
       "</div>"
      ],
      "text/plain": [
       "       duration  call  data  sms\n",
       "0    221.321120     0     1    0\n",
       "1     81.610599     1     0    0\n",
       "2    143.109111     1     0    0\n",
       "3    111.888670     1     0    0\n",
       "4    246.695171     1     0    0\n",
       "..          ...   ...   ...  ...\n",
       "815  185.328156     0     1    0\n",
       "816   89.819383     0     1    0\n",
       "817  117.604998     0     1    0\n",
       "818   77.834006     0     0    1\n",
       "819  146.000584     0     1    0\n",
       "\n",
       "[820 rows x 4 columns]"
      ]
     },
     "execution_count": 230,
     "metadata": {},
     "output_type": "execute_result"
    }
   ],
   "source": [
    "df1 = df_new[['duration','call','data','sms']].copy()\n",
    "df1"
   ]
  },
  {
   "cell_type": "code",
   "execution_count": 231,
   "id": "75539b22",
   "metadata": {},
   "outputs": [
    {
     "data": {
      "text/html": [
       "<div>\n",
       "<style scoped>\n",
       "    .dataframe tbody tr th:only-of-type {\n",
       "        vertical-align: middle;\n",
       "    }\n",
       "\n",
       "    .dataframe tbody tr th {\n",
       "        vertical-align: top;\n",
       "    }\n",
       "\n",
       "    .dataframe thead th {\n",
       "        text-align: right;\n",
       "    }\n",
       "</style>\n",
       "<table border=\"1\" class=\"dataframe\">\n",
       "  <thead>\n",
       "    <tr style=\"text-align: right;\">\n",
       "      <th></th>\n",
       "      <th>duration</th>\n",
       "      <th>call</th>\n",
       "      <th>data</th>\n",
       "      <th>sms</th>\n",
       "    </tr>\n",
       "  </thead>\n",
       "  <tbody>\n",
       "    <tr>\n",
       "      <th>duration</th>\n",
       "      <td>1.000000</td>\n",
       "      <td>0.068462</td>\n",
       "      <td>-0.034573</td>\n",
       "      <td>-0.043821</td>\n",
       "    </tr>\n",
       "    <tr>\n",
       "      <th>call</th>\n",
       "      <td>0.068462</td>\n",
       "      <td>1.000000</td>\n",
       "      <td>-0.448417</td>\n",
       "      <td>-0.686132</td>\n",
       "    </tr>\n",
       "    <tr>\n",
       "      <th>data</th>\n",
       "      <td>-0.034573</td>\n",
       "      <td>-0.448417</td>\n",
       "      <td>1.000000</td>\n",
       "      <td>-0.342564</td>\n",
       "    </tr>\n",
       "    <tr>\n",
       "      <th>sms</th>\n",
       "      <td>-0.043821</td>\n",
       "      <td>-0.686132</td>\n",
       "      <td>-0.342564</td>\n",
       "      <td>1.000000</td>\n",
       "    </tr>\n",
       "  </tbody>\n",
       "</table>\n",
       "</div>"
      ],
      "text/plain": [
       "          duration      call      data       sms\n",
       "duration  1.000000  0.068462 -0.034573 -0.043821\n",
       "call      0.068462  1.000000 -0.448417 -0.686132\n",
       "data     -0.034573 -0.448417  1.000000 -0.342564\n",
       "sms      -0.043821 -0.686132 -0.342564  1.000000"
      ]
     },
     "execution_count": 231,
     "metadata": {},
     "output_type": "execute_result"
    }
   ],
   "source": [
    "df1.corr()"
   ]
  },
  {
   "cell_type": "raw",
   "id": "3bc64152",
   "metadata": {},
   "source": [
    "Hence from the above correlation matrix, we infer that call has a positive correlation with duration while data and sms have a negative correlation with duration(relation is very less and not significant)"
   ]
  },
  {
   "cell_type": "raw",
   "id": "b8c5f371",
   "metadata": {},
   "source": [
    "H0 : The item and duration are not related\n",
    "Ha : The item and duration are related"
   ]
  },
  {
   "cell_type": "code",
   "execution_count": 232,
   "id": "e88aaa1e",
   "metadata": {},
   "outputs": [
    {
     "data": {
      "text/html": [
       "<div>\n",
       "<style scoped>\n",
       "    .dataframe tbody tr th:only-of-type {\n",
       "        vertical-align: middle;\n",
       "    }\n",
       "\n",
       "    .dataframe tbody tr th {\n",
       "        vertical-align: top;\n",
       "    }\n",
       "\n",
       "    .dataframe thead th {\n",
       "        text-align: right;\n",
       "    }\n",
       "</style>\n",
       "<table border=\"1\" class=\"dataframe\">\n",
       "  <thead>\n",
       "    <tr style=\"text-align: right;\">\n",
       "      <th>duration</th>\n",
       "      <th>0.993514</th>\n",
       "      <th>14.173899</th>\n",
       "      <th>15.927469</th>\n",
       "      <th>21.456720</th>\n",
       "      <th>32.116432</th>\n",
       "      <th>32.957849</th>\n",
       "      <th>36.796316</th>\n",
       "      <th>38.178570</th>\n",
       "      <th>38.190416</th>\n",
       "      <th>42.386148</th>\n",
       "      <th>...</th>\n",
       "      <th>250.015752</th>\n",
       "      <th>250.865661</th>\n",
       "      <th>252.947691</th>\n",
       "      <th>255.202191</th>\n",
       "      <th>260.813244</th>\n",
       "      <th>264.422909</th>\n",
       "      <th>264.850816</th>\n",
       "      <th>268.343460</th>\n",
       "      <th>268.443922</th>\n",
       "      <th>268.458090</th>\n",
       "    </tr>\n",
       "    <tr>\n",
       "      <th>item</th>\n",
       "      <th></th>\n",
       "      <th></th>\n",
       "      <th></th>\n",
       "      <th></th>\n",
       "      <th></th>\n",
       "      <th></th>\n",
       "      <th></th>\n",
       "      <th></th>\n",
       "      <th></th>\n",
       "      <th></th>\n",
       "      <th></th>\n",
       "      <th></th>\n",
       "      <th></th>\n",
       "      <th></th>\n",
       "      <th></th>\n",
       "      <th></th>\n",
       "      <th></th>\n",
       "      <th></th>\n",
       "      <th></th>\n",
       "      <th></th>\n",
       "      <th></th>\n",
       "    </tr>\n",
       "  </thead>\n",
       "  <tbody>\n",
       "    <tr>\n",
       "      <th>call</th>\n",
       "      <td>0</td>\n",
       "      <td>0</td>\n",
       "      <td>1</td>\n",
       "      <td>1</td>\n",
       "      <td>1</td>\n",
       "      <td>0</td>\n",
       "      <td>1</td>\n",
       "      <td>1</td>\n",
       "      <td>0</td>\n",
       "      <td>1</td>\n",
       "      <td>...</td>\n",
       "      <td>1</td>\n",
       "      <td>0</td>\n",
       "      <td>1</td>\n",
       "      <td>1</td>\n",
       "      <td>1</td>\n",
       "      <td>1</td>\n",
       "      <td>0</td>\n",
       "      <td>0</td>\n",
       "      <td>1</td>\n",
       "      <td>0</td>\n",
       "    </tr>\n",
       "    <tr>\n",
       "      <th>data</th>\n",
       "      <td>1</td>\n",
       "      <td>0</td>\n",
       "      <td>0</td>\n",
       "      <td>0</td>\n",
       "      <td>0</td>\n",
       "      <td>0</td>\n",
       "      <td>0</td>\n",
       "      <td>0</td>\n",
       "      <td>0</td>\n",
       "      <td>0</td>\n",
       "      <td>...</td>\n",
       "      <td>0</td>\n",
       "      <td>0</td>\n",
       "      <td>0</td>\n",
       "      <td>0</td>\n",
       "      <td>0</td>\n",
       "      <td>0</td>\n",
       "      <td>0</td>\n",
       "      <td>0</td>\n",
       "      <td>0</td>\n",
       "      <td>1</td>\n",
       "    </tr>\n",
       "    <tr>\n",
       "      <th>sms</th>\n",
       "      <td>0</td>\n",
       "      <td>1</td>\n",
       "      <td>0</td>\n",
       "      <td>0</td>\n",
       "      <td>0</td>\n",
       "      <td>1</td>\n",
       "      <td>0</td>\n",
       "      <td>0</td>\n",
       "      <td>1</td>\n",
       "      <td>0</td>\n",
       "      <td>...</td>\n",
       "      <td>0</td>\n",
       "      <td>1</td>\n",
       "      <td>0</td>\n",
       "      <td>0</td>\n",
       "      <td>0</td>\n",
       "      <td>0</td>\n",
       "      <td>1</td>\n",
       "      <td>1</td>\n",
       "      <td>0</td>\n",
       "      <td>0</td>\n",
       "    </tr>\n",
       "  </tbody>\n",
       "</table>\n",
       "<p>3 rows × 820 columns</p>\n",
       "</div>"
      ],
      "text/plain": [
       "duration  0.993514    14.173899   15.927469   21.456720   32.116432   \\\n",
       "item                                                                   \n",
       "call               0           0           1           1           1   \n",
       "data               1           0           0           0           0   \n",
       "sms                0           1           0           0           0   \n",
       "\n",
       "duration  32.957849   36.796316   38.178570   38.190416   42.386148   ...  \\\n",
       "item                                                                  ...   \n",
       "call               0           1           1           0           1  ...   \n",
       "data               0           0           0           0           0  ...   \n",
       "sms                1           0           0           1           0  ...   \n",
       "\n",
       "duration  250.015752  250.865661  252.947691  255.202191  260.813244  \\\n",
       "item                                                                   \n",
       "call               1           0           1           1           1   \n",
       "data               0           0           0           0           0   \n",
       "sms                0           1           0           0           0   \n",
       "\n",
       "duration  264.422909  264.850816  268.343460  268.443922  268.458090  \n",
       "item                                                                  \n",
       "call               1           0           0           1           0  \n",
       "data               0           0           0           0           1  \n",
       "sms                0           1           1           0           0  \n",
       "\n",
       "[3 rows x 820 columns]"
      ]
     },
     "execution_count": 232,
     "metadata": {},
     "output_type": "execute_result"
    }
   ],
   "source": [
    "tab = pd.crosstab(dfmobnetwork['item'],dfmobnetwork['duration'])\n",
    "tab"
   ]
  },
  {
   "cell_type": "code",
   "execution_count": 233,
   "id": "a8875383",
   "metadata": {},
   "outputs": [
    {
     "data": {
      "text/plain": [
       "array([[0, 0, 1, ..., 0, 1, 0],\n",
       "       [1, 0, 0, ..., 0, 0, 1],\n",
       "       [0, 1, 0, ..., 1, 0, 0]], dtype=int64)"
      ]
     },
     "execution_count": 233,
     "metadata": {},
     "output_type": "execute_result"
    }
   ],
   "source": [
    "observed_values = tab.values\n",
    "observed_values"
   ]
  },
  {
   "cell_type": "code",
   "execution_count": 235,
   "id": "ae14fab8",
   "metadata": {},
   "outputs": [],
   "source": [
    "stats,pval,dof,expected_values = st.chi2_contingency(observed= observed_values,correction= False)"
   ]
  },
  {
   "cell_type": "code",
   "execution_count": 236,
   "id": "b9bac7ba",
   "metadata": {},
   "outputs": [
    {
     "data": {
      "text/plain": [
       "1638"
      ]
     },
     "execution_count": 236,
     "metadata": {},
     "output_type": "execute_result"
    }
   ],
   "source": [
    "dof"
   ]
  },
  {
   "cell_type": "code",
   "execution_count": 239,
   "id": "161f26dc",
   "metadata": {},
   "outputs": [
    {
     "data": {
      "text/plain": [
       "1732.23992"
      ]
     },
     "execution_count": 239,
     "metadata": {},
     "output_type": "execute_result"
    }
   ],
   "source": [
    "critical_value = np.abs(round(st.chi2.isf(q = 0.05,df = dof - 1),5))\n",
    "critical_value"
   ]
  },
  {
   "cell_type": "code",
   "execution_count": 243,
   "id": "0abd8b84",
   "metadata": {},
   "outputs": [
    {
     "data": {
      "text/plain": [
       "1640.0"
      ]
     },
     "execution_count": 243,
     "metadata": {},
     "output_type": "execute_result"
    }
   ],
   "source": [
    "stats"
   ]
  },
  {
   "cell_type": "code",
   "execution_count": 241,
   "id": "dd986d8b",
   "metadata": {},
   "outputs": [
    {
     "data": {
      "text/plain": [
       "True"
      ]
     },
     "execution_count": 241,
     "metadata": {},
     "output_type": "execute_result"
    }
   ],
   "source": [
    "pval > 0.05"
   ]
  },
  {
   "cell_type": "code",
   "execution_count": 245,
   "id": "43e81849",
   "metadata": {},
   "outputs": [
    {
     "data": {
      "text/plain": [
       "False"
      ]
     },
     "execution_count": 245,
     "metadata": {},
     "output_type": "execute_result"
    }
   ],
   "source": [
    "stats > critical_value"
   ]
  },
  {
   "cell_type": "raw",
   "id": "5e82f463",
   "metadata": {},
   "source": [
    "As the pvalue is greater than 0.05 and the test statistic value is lesser than the critical value for the chisquare test,we fail to reject the null hypothesis and conclude that items and duration are not related"
   ]
  },
  {
   "cell_type": "markdown",
   "id": "902d748a",
   "metadata": {},
   "source": [
    "#### e) Perform statistical tests to identify the relation between network and network_type. "
   ]
  },
  {
   "cell_type": "raw",
   "id": "c262def7",
   "metadata": {},
   "source": [
    "H0 : There is no significant difference between observed and expected frequencies(Network and network type are not related)\n",
    "Ha : There is a significant difference between observed and expected frequencies(Network and network type are related)"
   ]
  },
  {
   "cell_type": "code",
   "execution_count": 214,
   "id": "3e5302e5",
   "metadata": {},
   "outputs": [
    {
     "data": {
      "text/html": [
       "<div>\n",
       "<style scoped>\n",
       "    .dataframe tbody tr th:only-of-type {\n",
       "        vertical-align: middle;\n",
       "    }\n",
       "\n",
       "    .dataframe tbody tr th {\n",
       "        vertical-align: top;\n",
       "    }\n",
       "\n",
       "    .dataframe thead th {\n",
       "        text-align: right;\n",
       "    }\n",
       "</style>\n",
       "<table border=\"1\" class=\"dataframe\">\n",
       "  <thead>\n",
       "    <tr style=\"text-align: right;\">\n",
       "      <th>network_type</th>\n",
       "      <th>data</th>\n",
       "      <th>landline</th>\n",
       "      <th>mobile</th>\n",
       "      <th>voicemail</th>\n",
       "    </tr>\n",
       "    <tr>\n",
       "      <th>network</th>\n",
       "      <th></th>\n",
       "      <th></th>\n",
       "      <th></th>\n",
       "      <th></th>\n",
       "    </tr>\n",
       "  </thead>\n",
       "  <tbody>\n",
       "    <tr>\n",
       "      <th>Meteor</th>\n",
       "      <td>0</td>\n",
       "      <td>0</td>\n",
       "      <td>87</td>\n",
       "      <td>0</td>\n",
       "    </tr>\n",
       "    <tr>\n",
       "      <th>Tesco</th>\n",
       "      <td>0</td>\n",
       "      <td>0</td>\n",
       "      <td>84</td>\n",
       "      <td>0</td>\n",
       "    </tr>\n",
       "    <tr>\n",
       "      <th>Three</th>\n",
       "      <td>0</td>\n",
       "      <td>0</td>\n",
       "      <td>215</td>\n",
       "      <td>0</td>\n",
       "    </tr>\n",
       "    <tr>\n",
       "      <th>Vodafone</th>\n",
       "      <td>0</td>\n",
       "      <td>0</td>\n",
       "      <td>215</td>\n",
       "      <td>0</td>\n",
       "    </tr>\n",
       "    <tr>\n",
       "      <th>data</th>\n",
       "      <td>150</td>\n",
       "      <td>0</td>\n",
       "      <td>0</td>\n",
       "      <td>0</td>\n",
       "    </tr>\n",
       "    <tr>\n",
       "      <th>landline</th>\n",
       "      <td>0</td>\n",
       "      <td>42</td>\n",
       "      <td>0</td>\n",
       "      <td>0</td>\n",
       "    </tr>\n",
       "    <tr>\n",
       "      <th>voicemail</th>\n",
       "      <td>0</td>\n",
       "      <td>0</td>\n",
       "      <td>0</td>\n",
       "      <td>27</td>\n",
       "    </tr>\n",
       "  </tbody>\n",
       "</table>\n",
       "</div>"
      ],
      "text/plain": [
       "network_type  data  landline  mobile  voicemail\n",
       "network                                        \n",
       "Meteor           0         0      87          0\n",
       "Tesco            0         0      84          0\n",
       "Three            0         0     215          0\n",
       "Vodafone         0         0     215          0\n",
       "data           150         0       0          0\n",
       "landline         0        42       0          0\n",
       "voicemail        0         0       0         27"
      ]
     },
     "execution_count": 214,
     "metadata": {},
     "output_type": "execute_result"
    }
   ],
   "source": [
    "tab = pd.crosstab(dfmobnetwork['network'],dfmobnetwork['network_type'])\n",
    "tab"
   ]
  },
  {
   "cell_type": "code",
   "execution_count": 215,
   "id": "71524901",
   "metadata": {},
   "outputs": [
    {
     "data": {
      "text/plain": [
       "array([[  0,   0,  87,   0],\n",
       "       [  0,   0,  84,   0],\n",
       "       [  0,   0, 215,   0],\n",
       "       [  0,   0, 215,   0],\n",
       "       [150,   0,   0,   0],\n",
       "       [  0,  42,   0,   0],\n",
       "       [  0,   0,   0,  27]], dtype=int64)"
      ]
     },
     "execution_count": 215,
     "metadata": {},
     "output_type": "execute_result"
    }
   ],
   "source": [
    "observed_values = tab.values\n",
    "observed_values"
   ]
  },
  {
   "cell_type": "code",
   "execution_count": 221,
   "id": "1719af0a",
   "metadata": {},
   "outputs": [],
   "source": [
    "stat,pval,dof,expected_values = st.chi2_contingency(observed=observed_values,correction= False)"
   ]
  },
  {
   "cell_type": "code",
   "execution_count": 222,
   "id": "63cddf2d",
   "metadata": {},
   "outputs": [
    {
     "data": {
      "text/plain": [
       "0.0"
      ]
     },
     "execution_count": 222,
     "metadata": {},
     "output_type": "execute_result"
    }
   ],
   "source": [
    "pval"
   ]
  },
  {
   "cell_type": "code",
   "execution_count": 223,
   "id": "30dabd96",
   "metadata": {},
   "outputs": [
    {
     "data": {
      "text/plain": [
       "False"
      ]
     },
     "execution_count": 223,
     "metadata": {},
     "output_type": "execute_result"
    }
   ],
   "source": [
    "pval > 0.05"
   ]
  },
  {
   "cell_type": "raw",
   "id": "b26560ad",
   "metadata": {},
   "source": [
    "Thus we reject the null hypothesis and conclude that the attributes network and network type are related"
   ]
  }
 ],
 "metadata": {
  "kernelspec": {
   "display_name": "Python 3",
   "language": "python",
   "name": "python3"
  },
  "language_info": {
   "codemirror_mode": {
    "name": "ipython",
    "version": 3
   },
   "file_extension": ".py",
   "mimetype": "text/x-python",
   "name": "python",
   "nbconvert_exporter": "python",
   "pygments_lexer": "ipython3",
   "version": "3.8.8"
  }
 },
 "nbformat": 4,
 "nbformat_minor": 5
}
